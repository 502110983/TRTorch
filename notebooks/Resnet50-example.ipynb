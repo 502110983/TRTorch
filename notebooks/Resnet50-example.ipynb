{
 "cells": [
  {
   "cell_type": "code",
   "execution_count": 1,
   "metadata": {},
   "outputs": [],
   "source": [
    "# Copyright 2019 NVIDIA Corporation. All Rights Reserved.\n",
    "#\n",
    "# Licensed under the Apache License, Version 2.0 (the \"License\");\n",
    "# you may not use this file except in compliance with the License.\n",
    "# You may obtain a copy of the License at\n",
    "#\n",
    "#     http://www.apache.org/licenses/LICENSE-2.0\n",
    "#\n",
    "# Unless required by applicable law or agreed to in writing, software\n",
    "# distributed under the License is distributed on an \"AS IS\" BASIS,\n",
    "# WITHOUT WARRANTIES OR CONDITIONS OF ANY KIND, either express or implied.\n",
    "# See the License for the specific language governing permissions and\n",
    "# limitations under the License.\n",
    "# =============================================================================="
   ]
  },
  {
   "cell_type": "markdown",
   "metadata": {},
   "source": [
    "<img src=\"http://developer.download.nvidia.com/compute/machine-learning/frameworks/nvidia_logo.png\" style=\"width: 90px; float: right;\">\n",
    "\n",
    "# TRTorch Getting Started - ResNet 50"
   ]
  },
  {
   "cell_type": "markdown",
   "metadata": {},
   "source": [
    "## Overview\n",
    "\n",
    "In the practice of developing machine learning models, there are few tools as approachable as PyTorch for developing and experimenting in designing machine learning models. The power of PyTorch comes from its deep integration into Python, its flexibility and its approach to automatic differentiation and execution (eager execution). However, when moving from research into production, the requirements change and we may no longer want that deep Python integration and we want optimization to get the best performance we can on our deployment platform. In PyTorch 1.0, TorchScript was introduced as a method to separate your PyTorch model from Python, make it portable and optimizable. TorchScript uses PyTorch's JIT compiler to transform your normal PyTorch code which gets interpreted by the Python interpreter to an intermediate representation (IR) which can have optimizations run on it and at runtime can get interpreted by the PyTorch JIT interpreter. For PyTorch this has opened up a whole new world of possibilities, including deployment in other languages like C++. It also introduces a structured graph based format that we can use to do down to the kernel level optimization of models for inference.\n",
    "\n",
    "When deploying on NVIDIA GPUs TensorRT, NVIDIA's Deep Learning Optimization SDK and Runtime is able to take models from any major framework and specifically tune them to perform better on specific target hardware in the NVIDIA family be it an A100, TITAN V, Jetson Xavier or NVIDIA's Deep Learning Accelerator. TensorRT performs a couple sets of optimizations to achieve this. TensorRT fuses layers and tensors in the model graph, it then uses a large kernel library to select implementations that perform best on the target GPU. TensorRT also has strong support for reduced operating precision execution which allows users to leverage the Tensor Cores on Volta and newer GPUs as well as reducing memory and computation footprints on device.\n",
    "\n",
    "TRTorch is a compiler that uses TensorRT to optimize TorchScript code, compiling standard TorchScript modules into ones that internally run with TensorRT optimizations. This enables you to continue to remain in the PyTorch ecosystem, using all the great features PyTorch has such as module composability, its flexible tensor implementation, data loaders and more. TRTorch is available to use with both PyTorch and LibTorch."
   ]
  },
  {
   "cell_type": "markdown",
   "metadata": {},
   "source": [
    "### Learning objectives\n",
    "\n",
    "This notebook demonstrates the steps for compiling a TorchScript module with TRTorch on a pretrained ResNet-50 network, and running it to test the speedup obtained.\n",
    "\n",
    "## Content\n",
    "1. [Requirements](#1)\n",
    "1. [ResNet-50 Overview](#2)\n",
    "1. [Creating TorchScript modules](#3)\n",
    "1. [Compiling with TRTorch](#4)\n",
    "1. [Running Inference](#5)\n",
    "1. [Measuring Speedup](#6)\n",
    "1. [Conclusion](#7)"
   ]
  },
  {
   "cell_type": "code",
   "execution_count": 1,
   "metadata": {},
   "outputs": [
    {
     "name": "stdout",
     "output_type": "stream",
     "text": [
      "Mon Aug 24 19:29:26 2020       \r\n",
      "+-----------------------------------------------------------------------------+\r\n",
      "| NVIDIA-SMI 450.24       Driver Version: 450.24       CUDA Version: 11.0     |\r\n",
      "|-------------------------------+----------------------+----------------------+\r\n",
      "| GPU  Name        Persistence-M| Bus-Id        Disp.A | Volatile Uncorr. ECC |\r\n",
      "| Fan  Temp  Perf  Pwr:Usage/Cap|         Memory-Usage | GPU-Util  Compute M. |\r\n",
      "|                               |                      |               MIG M. |\r\n",
      "|===============================+======================+======================|\r\n",
      "|   0  Tesla P100-SXM2...  On   | 00000000:06:00.0 Off |                    0 |\r\n",
      "| N/A   35C    P0    34W / 300W |      0MiB / 16280MiB |      0%      Default |\r\n",
      "|                               |                      |                  N/A |\r\n",
      "+-------------------------------+----------------------+----------------------+\r\n",
      "|   1  Tesla P100-SXM2...  On   | 00000000:07:00.0 Off |                    0 |\r\n",
      "| N/A   35C    P0    34W / 300W |      0MiB / 16280MiB |      0%      Default |\r\n",
      "|                               |                      |                  N/A |\r\n",
      "+-------------------------------+----------------------+----------------------+\r\n",
      "|   2  Tesla P100-SXM2...  On   | 00000000:0A:00.0 Off |                    0 |\r\n",
      "| N/A   35C    P0    33W / 300W |      0MiB / 16280MiB |      0%      Default |\r\n",
      "|                               |                      |                  N/A |\r\n",
      "+-------------------------------+----------------------+----------------------+\r\n",
      "|   3  Tesla P100-SXM2...  On   | 00000000:0B:00.0 Off |                    0 |\r\n",
      "| N/A   34C    P0    32W / 300W |      0MiB / 16280MiB |      0%      Default |\r\n",
      "|                               |                      |                  N/A |\r\n",
      "+-------------------------------+----------------------+----------------------+\r\n",
      "|   4  Tesla P100-SXM2...  On   | 00000000:85:00.0 Off |                    0 |\r\n",
      "| N/A   35C    P0    33W / 300W |      0MiB / 16280MiB |      0%      Default |\r\n",
      "|                               |                      |                  N/A |\r\n",
      "+-------------------------------+----------------------+----------------------+\r\n",
      "|   5  Tesla P100-SXM2...  On   | 00000000:86:00.0 Off |                    0 |\r\n",
      "| N/A   31C    P0    36W / 300W |      0MiB / 16280MiB |      0%      Default |\r\n",
      "|                               |                      |                  N/A |\r\n",
      "+-------------------------------+----------------------+----------------------+\r\n",
      "|   6  Tesla P100-SXM2...  On   | 00000000:89:00.0 Off |                    0 |\r\n",
      "| N/A   36C    P0    34W / 300W |      0MiB / 16280MiB |      0%      Default |\r\n",
      "|                               |                      |                  N/A |\r\n",
      "+-------------------------------+----------------------+----------------------+\r\n",
      "|   7  Tesla P100-SXM2...  On   | 00000000:8A:00.0 Off |                    0 |\r\n",
      "| N/A   35C    P0    34W / 300W |      0MiB / 16280MiB |      0%      Default |\r\n",
      "|                               |                      |                  N/A |\r\n",
      "+-------------------------------+----------------------+----------------------+\r\n",
      "                                                                               \r\n",
      "+-----------------------------------------------------------------------------+\r\n",
      "| Processes:                                                                  |\r\n",
      "|  GPU   GI   CI        PID   Type   Process name                  GPU Memory |\r\n",
      "|        ID   ID                                                   Usage      |\r\n",
      "|=============================================================================|\r\n",
      "|  No running processes found                                                 |\r\n",
      "+-----------------------------------------------------------------------------+\r\n"
     ]
    }
   ],
   "source": [
    "!nvidia-smi"
   ]
  },
  {
   "cell_type": "markdown",
   "metadata": {},
   "source": [
    "<a id=\"1\"></a>\n",
    "## 1. Requirements\n",
    "\n",
    "Follow the steps in `notebooks/README` to prepare a Docker container, within which you can run this notebook."
   ]
  },
  {
   "cell_type": "markdown",
   "metadata": {},
   "source": [
    "<a id=\"2\"></a>\n",
    "## 2. ResNet-50 Overview\n",
    "\n",
    "\n",
    "PyTorch has a model repository called the PyTorch Hub, which is a source for high quality implementations of common models. We can get our ResNet-50 model from there pretrained on ImageNet.\n",
    "\n",
    "### Model Description\n",
    "\n",
    "This ResNet-50 model is based on the [Deep Residual Learning for Image Recognition](https://arxiv.org/pdf/1512.03385.pdf) paper, which describes ResNet as “a method for detecting objects in images using a single deep neural network\". The input size is fixed to 32x32.\n",
    "\n",
    "(More information about the ResNet-50 model is available at Nvidia's \"[DeepLearningExamples](https://github.com/NVIDIA/DeepLearningExamples/tree/master/PyTorch/Classification/ConvNets/resnet50v1.5)\" Github.)\n",
    "\n",
    "\n"
   ]
  },
  {
   "cell_type": "code",
   "execution_count": 2,
   "metadata": {},
   "outputs": [
    {
     "name": "stderr",
     "output_type": "stream",
     "text": [
      "Downloading: \"https://github.com/NVIDIA/DeepLearningExamples/archive/master.zip\" to /root/.cache/torch/hub/master.zip\n"
     ]
    },
    {
     "data": {
      "text/plain": [
       "['nvidia_ncf',\n",
       " 'nvidia_ssd',\n",
       " 'nvidia_ssd_processing_utils',\n",
       " 'nvidia_tacotron2',\n",
       " 'nvidia_waveglow',\n",
       " 'relocated']"
      ]
     },
     "execution_count": 2,
     "metadata": {},
     "output_type": "execute_result"
    }
   ],
   "source": [
    "import torch\n",
    "\n",
    "torch.hub.list('NVIDIA/DeepLearningExamples')"
   ]
  },
  {
   "cell_type": "code",
   "execution_count": 2,
   "metadata": {},
   "outputs": [
    {
     "name": "stderr",
     "output_type": "stream",
     "text": [
      "Downloading: \"https://github.com/pytorch/vision/archive/v0.6.0.zip\" to /root/.cache/torch/hub/v0.6.0.zip\n",
      "Downloading: \"https://download.pytorch.org/models/resnet50-19c8e357.pth\" to /root/.cache/torch/hub/checkpoints/resnet50-19c8e357.pth\n",
      "100.0%\n"
     ]
    }
   ],
   "source": [
    "import torch\n",
    "\n",
    "resnet50_model = torch.hub.load('pytorch/vision:v0.6.0', 'resnet50', pretrained=True)"
   ]
  },
  {
   "cell_type": "code",
   "execution_count": 3,
   "metadata": {},
   "outputs": [
    {
     "name": "stdout",
     "output_type": "stream",
     "text": [
      "--2020-08-24 19:29:46--  https://d17fnq9dkz9hgj.cloudfront.net/breed-uploads/2018/08/siberian-husky-detail.jpg?bust=1535566590&width=630\n",
      "Resolving d17fnq9dkz9hgj.cloudfront.net (d17fnq9dkz9hgj.cloudfront.net)... 13.227.77.5, 13.227.77.109, 13.227.77.154, ...\n",
      "Connecting to d17fnq9dkz9hgj.cloudfront.net (d17fnq9dkz9hgj.cloudfront.net)|13.227.77.5|:443... connected.\n",
      "HTTP request sent, awaiting response... 200 OK\n",
      "Length: 24112 (24K) [image/jpeg]\n",
      "Saving to: ‘./data/img0.JPG’\n",
      "\n",
      "./data/img0.JPG     100%[===================>]  23.55K  --.-KB/s    in 0.001s  \n",
      "\n",
      "2020-08-24 19:29:47 (44.4 MB/s) - ‘./data/img0.JPG’ saved [24112/24112]\n",
      "\n",
      "--2020-08-24 19:29:48--  https://www.hakaimagazine.com/wp-content/uploads/header-gulf-birds.jpg\n",
      "Resolving www.hakaimagazine.com (www.hakaimagazine.com)... 23.185.0.4, 2620:12a:8001::4, 2620:12a:8000::4\n",
      "Connecting to www.hakaimagazine.com (www.hakaimagazine.com)|23.185.0.4|:443... connected.\n",
      "HTTP request sent, awaiting response... 200 OK\n",
      "Length: 452718 (442K) [image/jpeg]\n",
      "Saving to: ‘./data/img1.JPG’\n",
      "\n",
      "./data/img1.JPG     100%[===================>] 442.11K  --.-KB/s    in 0.05s   \n",
      "\n",
      "2020-08-24 19:29:48 (9.24 MB/s) - ‘./data/img1.JPG’ saved [452718/452718]\n",
      "\n",
      "--2020-08-24 19:29:49--  https://www.artis.nl/media/filer_public_thumbnails/filer_public/00/f1/00f1b6db-fbed-4fef-9ab0-84e944ff11f8/chimpansee_amber_r_1920x1080.jpg__1920x1080_q85_subject_location-923%2C365_subsampling-2.jpg\n",
      "Resolving www.artis.nl (www.artis.nl)... 94.75.225.20\n",
      "Connecting to www.artis.nl (www.artis.nl)|94.75.225.20|:443... connected.\n",
      "HTTP request sent, awaiting response... 200 OK\n",
      "Length: 361413 (353K) [image/jpeg]\n",
      "Saving to: ‘./data/img2.JPG’\n",
      "\n",
      "./data/img2.JPG     100%[===================>] 352.94K   587KB/s    in 0.6s    \n",
      "\n",
      "2020-08-24 19:29:55 (587 KB/s) - ‘./data/img2.JPG’ saved [361413/361413]\n",
      "\n",
      "--2020-08-24 19:29:56--  https://www.familyhandyman.com/wp-content/uploads/2018/09/How-to-Avoid-Snakes-Slithering-Up-Your-Toilet-shutterstock_780480850.jpg\n",
      "Resolving www.familyhandyman.com (www.familyhandyman.com)... 104.18.201.107, 104.18.202.107, 2606:4700::6812:ca6b, ...\n",
      "Connecting to www.familyhandyman.com (www.familyhandyman.com)|104.18.201.107|:443... connected.\n",
      "HTTP request sent, awaiting response... 200 OK\n",
      "Length: 96063 (94K) [image/jpeg]\n",
      "Saving to: ‘./data/img3.JPG’\n",
      "\n",
      "./data/img3.JPG     100%[===================>]  93.81K  --.-KB/s    in 0.01s   \n",
      "\n",
      "2020-08-24 19:29:56 (6.80 MB/s) - ‘./data/img3.JPG’ saved [96063/96063]\n",
      "\n",
      "--2020-08-24 19:29:56--  https://s3.amazonaws.com/deep-learning-models/image-models/imagenet_class_index.json\n",
      "Resolving s3.amazonaws.com (s3.amazonaws.com)... 52.216.226.99\n",
      "Connecting to s3.amazonaws.com (s3.amazonaws.com)|52.216.226.99|:443... connected.\n",
      "HTTP request sent, awaiting response... 200 OK\n",
      "Length: 35363 (35K) [application/octet-stream]\n",
      "Saving to: ‘./data/imagenet_class_index.json’\n",
      "\n",
      "./data/imagenet_cla 100%[===================>]  34.53K  --.-KB/s    in 0.07s   \n",
      "\n",
      "2020-08-24 19:29:57 (475 KB/s) - ‘./data/imagenet_class_index.json’ saved [35363/35363]\n",
      "\n"
     ]
    }
   ],
   "source": [
    "!mkdir ./data\n",
    "!wget  -O ./data/img0.JPG \"https://d17fnq9dkz9hgj.cloudfront.net/breed-uploads/2018/08/siberian-husky-detail.jpg?bust=1535566590&width=630\"\n",
    "!wget  -O ./data/img1.JPG \"https://www.hakaimagazine.com/wp-content/uploads/header-gulf-birds.jpg\"\n",
    "!wget  -O ./data/img2.JPG \"https://www.artis.nl/media/filer_public_thumbnails/filer_public/00/f1/00f1b6db-fbed-4fef-9ab0-84e944ff11f8/chimpansee_amber_r_1920x1080.jpg__1920x1080_q85_subject_location-923%2C365_subsampling-2.jpg\"\n",
    "!wget  -O ./data/img3.JPG \"https://www.familyhandyman.com/wp-content/uploads/2018/09/How-to-Avoid-Snakes-Slithering-Up-Your-Toilet-shutterstock_780480850.jpg\"\n",
    "\n",
    "!wget  -O ./data/imagenet_class_index.json \"https://s3.amazonaws.com/deep-learning-models/image-models/imagenet_class_index.json\""
   ]
  },
  {
   "cell_type": "code",
   "execution_count": 4,
   "metadata": {},
   "outputs": [
    {
     "name": "stdout",
     "output_type": "stream",
     "text": [
      "Requirement already satisfied: pillow in /usr/local/lib/python3.6/dist-packages (4.3.0)\n",
      "Collecting matplotlib\n",
      "  Downloading matplotlib-3.3.1-cp36-cp36m-manylinux1_x86_64.whl (11.6 MB)\n",
      "\u001b[K     |████████████████████████████████| 11.6 MB 5.3 MB/s eta 0:00:01\n",
      "\u001b[?25hRequirement already satisfied: olefile in /usr/local/lib/python3.6/dist-packages (from pillow) (0.46)\n",
      "Requirement already satisfied: python-dateutil>=2.1 in /usr/local/lib/python3.6/dist-packages (from matplotlib) (2.8.1)\n",
      "Collecting kiwisolver>=1.0.1\n",
      "  Downloading kiwisolver-1.2.0-cp36-cp36m-manylinux1_x86_64.whl (88 kB)\n",
      "\u001b[K     |████████████████████████████████| 88 kB 18.0 MB/s eta 0:00:01\n",
      "\u001b[?25hCollecting certifi>=2020.06.20\n",
      "  Downloading certifi-2020.6.20-py2.py3-none-any.whl (156 kB)\n",
      "\u001b[K     |████████████████████████████████| 156 kB 26.0 MB/s eta 0:00:01\n",
      "\u001b[?25hRequirement already satisfied: numpy>=1.15 in /usr/local/lib/python3.6/dist-packages (from matplotlib) (1.18.1)\n",
      "Collecting cycler>=0.10\n",
      "  Downloading cycler-0.10.0-py2.py3-none-any.whl (6.5 kB)\n",
      "Requirement already satisfied: pyparsing!=2.0.4,!=2.1.2,!=2.1.6,>=2.0.3 in /usr/local/lib/python3.6/dist-packages (from matplotlib) (2.4.7)\n",
      "Requirement already satisfied: six>=1.5 in /usr/local/lib/python3.6/dist-packages (from python-dateutil>=2.1->matplotlib) (1.14.0)\n",
      "\u001b[31mERROR: matplotlib 3.3.1 has requirement pillow>=6.2.0, but you'll have pillow 4.3.0 which is incompatible.\u001b[0m\n",
      "Installing collected packages: kiwisolver, certifi, cycler, matplotlib\n",
      "Successfully installed certifi-2020.6.20 cycler-0.10.0 kiwisolver-1.2.0 matplotlib-3.3.1\n",
      "\u001b[33mWARNING: You are using pip version 20.0.2; however, version 20.2.2 is available.\n",
      "You should consider upgrading via the '/usr/bin/python -m pip install --upgrade pip' command.\u001b[0m\n"
     ]
    }
   ],
   "source": [
    "# !pip install pillow matplotlib"
   ]
  },
  {
   "cell_type": "code",
   "execution_count": 5,
   "metadata": {},
   "outputs": [
    {
     "data": {
      "image/png": "[encoded data removed]",
      "text/plain": [
       "<Figure size 432x288 with 4 Axes>"
      ]
     },
     "metadata": {
      "needs_background": "light"
     },
     "output_type": "display_data"
    }
   ],
   "source": [
    "from PIL import Image\n",
    "from torchvision import transforms\n",
    "import matplotlib.pyplot as plt\n",
    "\n",
    "fig, axes = plt.subplots(nrows=2, ncols=2)\n",
    "\n",
    "for i in range(4):\n",
    "  img_path = './data/img%d.JPG'%i\n",
    "  img = Image.open(img_path)\n",
    "  preprocess = transforms.Compose([\n",
    "    transforms.Resize(256),\n",
    "    transforms.CenterCrop(224),\n",
    "    transforms.ToTensor(),\n",
    "    transforms.Normalize(mean=[0.485, 0.456, 0.406], std=[0.229, 0.224, 0.225]),\n",
    "])\n",
    "  input_tensor = preprocess(img)      \n",
    "  plt.subplot(2,2,i+1)\n",
    "  plt.imshow(img);\n",
    "  plt.axis('off');"
   ]
  },
  {
   "cell_type": "code",
   "execution_count": 15,
   "metadata": {},
   "outputs": [],
   "source": [
    "import urllib\n",
    "url, filename = (\"https://github.com/pytorch/hub/raw/master/dog.jpg\", \"dog.jpg\")\n",
    "try: urllib.URLopener().retrieve(url, filename)\n",
    "except: urllib.request.urlretrieve(url, filename)"
   ]
  },
  {
   "cell_type": "code",
   "execution_count": 16,
   "metadata": {},
   "outputs": [
    {
     "ename": "NameError",
     "evalue": "name 'model' is not defined",
     "output_type": "error",
     "traceback": [
      "\u001b[0;31m---------------------------------------------------------------------------\u001b[0m",
      "\u001b[0;31mNameError\u001b[0m                                 Traceback (most recent call last)",
      "\u001b[0;32m<ipython-input-16-6f8cada7393e>\u001b[0m in \u001b[0;36m<module>\u001b[0;34m\u001b[0m\n\u001b[1;32m     15\u001b[0m \u001b[0;32mif\u001b[0m \u001b[0mtorch\u001b[0m\u001b[0;34m.\u001b[0m\u001b[0mcuda\u001b[0m\u001b[0;34m.\u001b[0m\u001b[0mis_available\u001b[0m\u001b[0;34m(\u001b[0m\u001b[0;34m)\u001b[0m\u001b[0;34m:\u001b[0m\u001b[0;34m\u001b[0m\u001b[0;34m\u001b[0m\u001b[0m\n\u001b[1;32m     16\u001b[0m     \u001b[0minput_batch\u001b[0m \u001b[0;34m=\u001b[0m \u001b[0minput_batch\u001b[0m\u001b[0;34m.\u001b[0m\u001b[0mto\u001b[0m\u001b[0;34m(\u001b[0m\u001b[0;34m'cuda'\u001b[0m\u001b[0;34m)\u001b[0m\u001b[0;34m\u001b[0m\u001b[0;34m\u001b[0m\u001b[0m\n\u001b[0;32m---> 17\u001b[0;31m     \u001b[0mmodel\u001b[0m\u001b[0;34m.\u001b[0m\u001b[0mto\u001b[0m\u001b[0;34m(\u001b[0m\u001b[0;34m'cuda'\u001b[0m\u001b[0;34m)\u001b[0m\u001b[0;34m\u001b[0m\u001b[0;34m\u001b[0m\u001b[0m\n\u001b[0m\u001b[1;32m     18\u001b[0m \u001b[0;34m\u001b[0m\u001b[0m\n\u001b[1;32m     19\u001b[0m \u001b[0;32mwith\u001b[0m \u001b[0mtorch\u001b[0m\u001b[0;34m.\u001b[0m\u001b[0mno_grad\u001b[0m\u001b[0;34m(\u001b[0m\u001b[0;34m)\u001b[0m\u001b[0;34m:\u001b[0m\u001b[0;34m\u001b[0m\u001b[0;34m\u001b[0m\u001b[0m\n",
      "\u001b[0;31mNameError\u001b[0m: name 'model' is not defined"
     ]
    }
   ],
   "source": [
    "# sample execution (requires torchvision)\n",
    "from PIL import Image\n",
    "from torchvision import transforms\n",
    "input_image = Image.open(filename)\n",
    "preprocess = transforms.Compose([\n",
    "    transforms.Resize(256),\n",
    "    transforms.CenterCrop(224),\n",
    "    transforms.ToTensor(),\n",
    "    transforms.Normalize(mean=[0.485, 0.456, 0.406], std=[0.229, 0.224, 0.225]),\n",
    "])\n",
    "input_tensor = preprocess(input_image)\n",
    "input_batch = input_tensor.unsqueeze(0) # create a mini-batch as expected by the model\n",
    "\n",
    "# move the input and model to GPU for speed if available\n",
    "if torch.cuda.is_available():\n",
    "    input_batch = input_batch.to('cuda')\n",
    "    model.to('cuda')\n",
    "\n",
    "with torch.no_grad():\n",
    "    output = model(input_batch)\n",
    "# Tensor of shape 1000, with confidence scores over Imagenet's 1000 classes\n",
    "print(output[0])\n",
    "# The output has unnormalized scores. To get probabilities, you can run a softmax on it.\n",
    "print(torch.nn.functional.softmax(output[0], dim=0))"
   ]
  },
  {
   "cell_type": "code",
   "execution_count": 17,
   "metadata": {},
   "outputs": [
    {
     "name": "stdout",
     "output_type": "stream",
     "text": [
      "torch.Size([1, 1000])\n",
      "ind tensor(600, device='cuda:0')\n",
      "tensor(0.0055, device='cuda:0')\n",
      "torch.Size([1, 1000])\n",
      "ind tensor(600, device='cuda:0')\n",
      "tensor(0.0062, device='cuda:0')\n",
      "torch.Size([1, 1000])\n",
      "ind tensor(463, device='cuda:0')\n",
      "tensor(0.0059, device='cuda:0')\n",
      "torch.Size([1, 1000])\n",
      "ind tensor(463, device='cuda:0')\n",
      "tensor(0.0059, device='cuda:0')\n"
     ]
    }
   ],
   "source": [
    "import numpy as np\n",
    "# from torchvision.utils import imagenet_classes\n",
    "\n",
    "\n",
    "for i in range(4):\n",
    "  img_path = './data/img%d.JPG'%i\n",
    "  img = Image.open(img_path)\n",
    "  preprocess = transforms.Compose([\n",
    "    transforms.Resize(256),\n",
    "    transforms.CenterCrop(224),\n",
    "    transforms.ToTensor(),\n",
    "    transforms.Normalize(mean=[0.485, 0.456, 0.406], std=[0.229, 0.224, 0.225]),\n",
    "])\n",
    "  input_tensor = preprocess(img)\n",
    "  input_batch = input_tensor.unsqueeze(0) # create a mini-batch as expected by the model\n",
    "  # move the input and model to GPU for speed if available\n",
    "  if torch.cuda.is_available():\n",
    "    input_batch = input_batch.to('cuda')\n",
    "    resnet50_model.to('cuda')\n",
    "\n",
    "  with torch.no_grad():\n",
    "    output = resnet50_model(input_batch)\n",
    "    # Tensor of shape 1000, with confidence scores over Imagenet's 1000 classes\n",
    "  sm_output = torch.nn.functional.softmax(output[0], dim=0)\n",
    "  print(output.shape)\n",
    "#   print(output[0])\n",
    "  ind = torch.argmax(sm_output)\n",
    "  print(\"ind\", ind)\n",
    "  print(sm_output[ind])\n",
    "\n",
    "\n",
    "\n",
    "#   x = np.array(input_tensor)\n",
    "#   x = np.expand_dims(x, axis=0)\n",
    "\n",
    "#   preds = resnet50_model.predict(x)\n",
    "\n",
    "  # decode the results into a list of tuples (class, description, probability)\n",
    "  # (one such list for each sample in the batch)\n",
    "\n",
    "\n",
    "\n",
    "#   print('{} - Predicted: {}'.format(img_path, decode_predictions(preds, top=3)[0]))\n",
    "\n",
    "#   plt.subplot(2,2,i+1)\n",
    "#   plt.imshow(img);\n",
    "#   plt.axis('off');\n",
    "#   plt.title(imagenet_classes(preds, top=3)[0][0][1])"
   ]
  },
  {
   "cell_type": "markdown",
   "metadata": {},
   "source": [
    "### Benchmark utility"
   ]
  },
  {
   "cell_type": "markdown",
   "metadata": {},
   "source": [
    "Let us define a helper function to benchmark a model."
   ]
  },
  {
   "cell_type": "code",
   "execution_count": 4,
   "metadata": {},
   "outputs": [],
   "source": [
    "import time\n",
    "import numpy as np\n",
    "\n",
    "import torch.backends.cudnn as cudnn\n",
    "cudnn.benchmark = True\n",
    "\n",
    "def benchmark(model, input_shape=(1024, 1, 224, 224), dtype='fp32', nwarmup=50, nruns=10000):\n",
    "    input_data = torch.randn(input_shape)\n",
    "    input_data = input_data.to(\"cuda\")\n",
    "    if dtype=='fp16':\n",
    "        input_data = input_data.half()\n",
    "        \n",
    "    print(\"Warm up ...\")\n",
    "    with torch.no_grad():\n",
    "        for _ in range(nwarmup):\n",
    "            features = model(input_data)\n",
    "    torch.cuda.synchronize()\n",
    "    print(\"Start timing ...\")\n",
    "    timings = []\n",
    "    with torch.no_grad():\n",
    "        for i in range(1, nruns+1):\n",
    "            start_time = time.time()\n",
    "            features = model(input_data)\n",
    "            torch.cuda.synchronize()\n",
    "            end_time = time.time()\n",
    "            timings.append(end_time - start_time)\n",
    "            if i%100==0:\n",
    "                print('Iteration %d/%d, ave batch time %.2f ms'%(i, nruns, np.mean(timings)*1000))\n",
    "\n",
    "    print(\"Input shape:\", input_data.size())\n",
    "    print(\"Output features size:\", features.size())\n",
    "    print('Average batch time: %.2f ms'%(np.mean(timings)*1000))"
   ]
  },
  {
   "cell_type": "code",
   "execution_count": 5,
   "metadata": {},
   "outputs": [
    {
     "name": "stdout",
     "output_type": "stream",
     "text": [
      "Warm up ...\n",
      "Start timing ...\n",
      "Iteration 100/1000, ave batch time 162.82 ms\n",
      "Iteration 200/1000, ave batch time 162.91 ms\n",
      "Iteration 300/1000, ave batch time 162.94 ms\n",
      "Iteration 400/1000, ave batch time 162.96 ms\n",
      "Iteration 500/1000, ave batch time 162.97 ms\n",
      "Iteration 600/1000, ave batch time 162.97 ms\n",
      "Iteration 700/1000, ave batch time 162.97 ms\n",
      "Iteration 800/1000, ave batch time 162.98 ms\n",
      "Iteration 900/1000, ave batch time 162.98 ms\n",
      "Iteration 1000/1000, ave batch time 162.98 ms\n",
      "Input shape: torch.Size([128, 3, 224, 224])\n",
      "Output features size: torch.Size([128, 1000])\n",
      "Average batch time: 162.98 ms\n"
     ]
    }
   ],
   "source": [
    "# Model benchmark without TRTorch/TensorRT\n",
    "model = resnet50_model.eval().to(\"cuda\")\n",
    "benchmark(model, input_shape=(128, 3, 224, 224), nruns=1000)"
   ]
  },
  {
   "cell_type": "code",
   "execution_count": null,
   "metadata": {},
   "outputs": [],
   "source": []
  },
  {
   "cell_type": "markdown",
   "metadata": {},
   "source": [
    "<a id=\"3\"></a>\n",
    "## 3. Creating TorchScript modules\n",
    "\n",
    "To compile with TRTorch, the model must first be in **TorchScript**. TorchScript is a programming language included in PyTorch which removes the Python dependency normal PyTorch models have. This conversion is done via a JIT compiler which given a PyTorch Module will generate an equivalent TorchScript Module. There are two paths that can be used to generate TorchScript: **Tracing** and **Scripting**. Tracing follows execution of PyTorch generating ops in TorchScript corresponding to what it sees. Scripting does an analysis of the Python code and generates TorchScript, this allows the resulting graph to include control flow which tracing cannot do. Tracing however due to its simplicity is more likely to compile successfully with TRTorch (though both systems are supported). "
   ]
  },
  {
   "cell_type": "code",
   "execution_count": 7,
   "metadata": {},
   "outputs": [],
   "source": [
    "model = resnet50_model.eval().to(\"cuda\")\n",
    "traced_model = torch.jit.trace(model, [torch.randn((128, 3, 224, 224)).to(\"cuda\")])"
   ]
  },
  {
   "cell_type": "markdown",
   "metadata": {},
   "source": [
    "We can save this model and use it independently of Python."
   ]
  },
  {
   "cell_type": "code",
   "execution_count": 8,
   "metadata": {},
   "outputs": [],
   "source": [
    "# This is just an example, and not required for the purposes of this demo\n",
    "torch.jit.save(traced_model, \"resnet_50_traced.jit.pt\")"
   ]
  },
  {
   "cell_type": "code",
   "execution_count": null,
   "metadata": {},
   "outputs": [],
   "source": [
    "# Obtain the average time taken by a batch of input\n",
    "benchmark(traced_model, input_shape=(128, 3, 224, 224), nruns=1000)"
   ]
  },
  {
   "cell_type": "markdown",
   "metadata": {},
   "source": [
    "<a id=\"4\"></a>\n",
    "## 4. Compiling with TRTorch"
   ]
  },
  {
   "cell_type": "markdown",
   "metadata": {},
   "source": [
    "TorchScript modules behave just like normal PyTorch modules and are intercompatable. From TorchScript we can now compile a TensorRT based module. This module will still be implemented in TorchScript but all the computation will be done in TensorRT."
   ]
  },
  {
   "cell_type": "code",
   "execution_count": null,
   "metadata": {},
   "outputs": [],
   "source": [
    "import trtorch\n",
    "\n",
    "# The compiled module will have precision as specified by \"op_precision\".\n",
    "# Here, it will have FP16 precision.\n",
    "trt_model = trtorch.compile(traced_model, {\n",
    "    \"input_shapes\": [(128, 3, 224, 224)],\n",
    "    \"op_precision\": torch.half, # Run with FP16\n",
    "    \"workspace_size\": 1 << 20\n",
    "})\n"
   ]
  },
  {
   "cell_type": "code",
   "execution_count": null,
   "metadata": {},
   "outputs": [],
   "source": [
    "# Obtain the average time taken by a batch of input\n",
    "benchmark(trt_model, input_shape=(128, 3, 224, 224), dtype='fp16', nruns=1000)"
   ]
  },
  {
   "cell_type": "code",
   "execution_count": 19,
   "metadata": {},
   "outputs": [],
   "source": [
    "import trtorch\n",
    "\n",
    "# The compiled module will have precision as specified by \"op_precision\".\n",
    "# Here, it will have FP16 precision.\n",
    "trt_model_fp32 = trtorch.compile(traced_model, {\n",
    "    \"input_shapes\": [(128, 3, 224, 224)],\n",
    "    \"op_precision\": torch.float32, # Run with FP32\n",
    "    \"workspace_size\": 1 << 20\n",
    "})\n",
    "\n"
   ]
  },
  {
   "cell_type": "code",
   "execution_count": 20,
   "metadata": {},
   "outputs": [
    {
     "name": "stdout",
     "output_type": "stream",
     "text": [
      "Warm up ...\n",
      "Start timing ...\n",
      "Iteration 100/1000, ave batch time 119.81 ms\n",
      "Iteration 200/1000, ave batch time 119.83 ms\n",
      "Iteration 300/1000, ave batch time 119.87 ms\n",
      "Iteration 400/1000, ave batch time 119.99 ms\n",
      "Iteration 500/1000, ave batch time 120.08 ms\n",
      "Iteration 600/1000, ave batch time 120.19 ms\n",
      "Iteration 700/1000, ave batch time 120.24 ms\n",
      "Iteration 800/1000, ave batch time 120.30 ms\n",
      "Iteration 900/1000, ave batch time 120.35 ms\n",
      "Iteration 1000/1000, ave batch time 114.07 ms\n",
      "Input shape: torch.Size([128, 3, 224, 224])\n",
      "Output features size: torch.Size([128, 1000])\n",
      "Average batch time: 114.07 ms\n"
     ]
    }
   ],
   "source": [
    "# Obtain the average time taken by a batch of input\n",
    "benchmark(trt_model_fp32, input_shape=(128, 3, 224, 224), nruns=1000)"
   ]
  },
  {
   "cell_type": "markdown",
   "metadata": {},
   "source": [
    "<a id=\"5\"></a>\n",
    "## 5. Running Inference\n",
    "\n",
    "We can now run inference on the TRTorch compiled model. This is demonstrated below using sample images from the COCO 2017 Validation set."
   ]
  },
  {
   "cell_type": "code",
   "execution_count": null,
   "metadata": {},
   "outputs": [],
   "source": []
  },
  {
   "cell_type": "code",
   "execution_count": 9,
   "metadata": {},
   "outputs": [],
   "source": [
    "# Download an example image from the pytorch website\n",
    "import urllib\n",
    "url, filename = (\"https://github.com/pytorch/hub/raw/master/dog.jpg\", \"dog.jpg\")\n",
    "try: urllib.URLopener().retrieve(url, filename)\n",
    "except: urllib.request.urlretrieve(url, filename)"
   ]
  },
  {
   "cell_type": "code",
   "execution_count": 10,
   "metadata": {},
   "outputs": [
    {
     "name": "stdout",
     "output_type": "stream",
     "text": [
      "tensor([-9.4537e-02, -1.4596e+00, -1.1330e+00, -1.6520e+00, -2.8367e+00,\n",
      "         2.5034e-01, -1.0562e+00,  3.0290e+00,  4.8499e+00,  1.4322e-01,\n",
      "        -3.0074e+00, -1.2253e+00, -1.7812e+00, -2.6095e+00, -2.7430e+00,\n",
      "        -1.6470e+00, -6.3207e-01,  1.2096e+00, -1.2136e-01, -1.0899e+00,\n",
      "        -2.0130e+00, -6.3550e-01, -5.5107e-01,  1.1292e+00, -1.7935e+00,\n",
      "        -4.5523e-01, -6.1320e-01, -6.3687e-01, -1.0281e+00,  1.1140e+00,\n",
      "        -1.1821e+00, -9.3301e-01, -6.6413e-01, -2.8717e+00, -2.2735e+00,\n",
      "        -1.1740e+00, -1.2014e+00, -1.5959e+00, -2.8250e+00, -5.8934e-01,\n",
      "        -3.9307e-01, -2.6001e+00, -1.5767e+00, -2.5568e+00,  5.8025e-01,\n",
      "        -2.1373e+00, -5.2948e-01, -1.5152e+00, -2.4959e+00, -1.1388e+00,\n",
      "         1.6644e-01, -4.5050e-01,  1.6418e-01,  2.7721e-01, -1.1867e+00,\n",
      "        -9.4941e-01, -1.2710e+00, -9.4497e-01, -5.2795e-01, -5.3808e-01,\n",
      "         1.5079e+00, -1.5966e+00, -2.4035e+00, -1.5511e+00, -3.0469e+00,\n",
      "        -2.0768e+00, -9.0381e-01, -9.8416e-01, -1.1183e+00, -4.4446e+00,\n",
      "        -9.1346e-01,  2.0901e-01, -9.2836e-01, -1.3642e+00,  1.9494e-01,\n",
      "        -1.9500e+00, -1.6371e+00, -2.8247e-01,  1.1704e+00, -6.6097e-01,\n",
      "        -1.3871e+00, -1.8538e-01, -1.5085e-01, -1.1430e+00,  1.1163e+00,\n",
      "        -1.6534e+00, -1.1215e+00, -1.8885e+00, -2.3102e+00,  1.8395e+00,\n",
      "        -1.4072e+00, -2.8119e+00, -3.3014e+00, -5.4583e-01,  5.3575e-01,\n",
      "        -3.3550e+00, -1.9394e+00, -1.4369e+00, -2.0799e+00,  1.0298e+00,\n",
      "         7.6606e-01, -1.7189e+00, -4.3532e-02, -2.6271e+00,  7.4904e+00,\n",
      "         8.7529e-01,  1.5082e+00, -3.0841e+00, -1.3444e+00, -3.1554e+00,\n",
      "        -1.4641e+00, -4.1890e+00,  2.8284e-01, -4.0142e-01,  5.8519e-01,\n",
      "        -9.6308e-02, -1.5788e+00, -2.4649e+00,  7.9057e-01,  6.7724e-01,\n",
      "        -1.0712e+00, -6.7547e-01,  4.1097e-01, -1.3469e-01,  3.1050e-01,\n",
      "        -3.1523e-01, -9.3057e-01,  2.4811e+00, -4.2662e-01,  1.2861e+00,\n",
      "        -3.9774e-01, -1.6067e+00,  7.3883e-02, -2.9237e+00, -5.5623e-01,\n",
      "        -2.0783e-01, -7.8810e-01, -2.7009e+00, -2.7574e+00, -3.4834e+00,\n",
      "        -2.5592e+00, -1.6587e+00, -2.7456e+00, -1.3155e+00,  4.6671e-01,\n",
      "        -1.1093e+00, -6.6570e-01, -2.4061e+00, -2.7735e+00, -1.9285e+00,\n",
      "        -2.2034e+00,  6.0853e+00,  5.6581e+00,  2.8655e+00,  6.4100e+00,\n",
      "         1.2974e+00,  1.3589e+00,  5.7452e+00,  2.7704e+00,  1.2982e+00,\n",
      "         5.8214e-01,  5.3878e-02, -2.9359e-01, -4.7368e-01, -4.2329e-01,\n",
      "        -1.7802e+00, -3.9527e-01, -1.4163e+00, -3.1357e-01,  4.3152e+00,\n",
      "         2.3927e+00, -2.8116e-01, -7.6243e-01,  2.4532e+00,  4.4332e+00,\n",
      "         2.7162e-01,  1.5354e+00,  8.6683e-01, -1.3464e+00,  1.6023e+00,\n",
      "         1.1207e+00, -5.5432e-01,  1.2071e+00, -5.2843e-01,  1.0541e+00,\n",
      "         4.0926e+00,  4.5495e+00,  5.9370e-01,  2.2555e+00,  1.2266e-01,\n",
      "         1.4803e+00, -1.6930e+00,  4.2137e+00,  3.8770e+00,  8.9980e-01,\n",
      "         1.6686e+00, -4.2924e-01, -8.7889e-02, -9.0798e-01,  5.3565e+00,\n",
      "         2.6556e+00,  1.4274e+00,  2.3591e-01,  6.5906e+00,  2.1124e+00,\n",
      "         1.3018e+00, -8.8185e-01,  4.6874e+00,  2.4550e+00, -1.7623e-01,\n",
      "        -2.0454e+00,  1.9275e-01,  2.9354e+00,  1.1430e+00,  8.7655e-01,\n",
      "         2.1812e+00,  3.7016e+00,  2.3891e+00,  2.0640e+00,  5.9695e-01,\n",
      "         1.7928e+00, -1.5818e+00,  7.0992e+00,  5.5427e+00,  7.2015e+00,\n",
      "         2.1539e+00,  2.3155e+00,  4.3141e+00,  3.6316e+00,  2.9590e+00,\n",
      "         5.3013e+00,  7.2519e+00,  6.8848e+00,  6.9810e-01,  6.9717e-01,\n",
      "         6.2982e+00,  1.9783e+00,  8.9455e-01,  4.3719e-01,  1.6732e+00,\n",
      "         2.6122e+00,  1.3918e+00,  9.9787e-01, -3.1328e-01,  3.3182e+00,\n",
      "         9.5834e-01,  6.0793e-01,  3.4678e+00,  8.2230e+00,  6.4206e+00,\n",
      "         6.4243e+00,  1.7845e+00,  2.4306e-01,  1.7204e+00,  1.1965e+00,\n",
      "         2.8093e+00,  4.3926e+00,  8.2000e+00,  1.2776e+01,  9.4135e+00,\n",
      "         6.8797e+00,  8.4079e+00,  1.8012e+00,  4.6654e+00,  4.5297e+00,\n",
      "         2.6417e+00,  1.2802e+00,  2.7984e+00, -5.8052e-01,  4.8921e+00,\n",
      "         8.9825e+00,  1.5337e+00,  2.3591e+00,  4.2308e+00,  5.0354e+00,\n",
      "        -8.8467e-01,  4.4582e-01,  3.0863e+00,  2.4934e+00,  7.1393e+00,\n",
      "         2.6510e+00,  2.9643e+00,  1.3999e+00,  6.5207e+00,  3.1288e+00,\n",
      "         3.5729e+00,  2.3105e-01,  3.2757e+00,  4.3981e-01,  1.1972e+00,\n",
      "        -1.5733e-01,  2.3810e+00,  1.7232e+00,  1.4009e+00, -7.5995e-02,\n",
      "        -1.6510e-01,  1.0521e+00, -1.0927e+00, -1.2375e+00, -1.2289e-01,\n",
      "        -2.1614e+00, -2.8592e+00, -1.3245e+00, -1.5155e+00, -1.6582e+00,\n",
      "        -2.1023e+00,  3.8612e-01, -9.3121e-01, -3.2139e+00, -7.1650e-01,\n",
      "        -3.7237e-01, -2.6560e+00, -1.4305e+00, -6.7720e-01,  6.4707e-01,\n",
      "        -2.5702e+00, -2.6687e+00, -2.4140e+00, -2.9279e+00, -3.4107e+00,\n",
      "        -1.8254e+00, -1.7090e+00, -3.2740e+00, -1.9872e+00, -8.2992e-01,\n",
      "        -4.7261e-01, -1.6200e+00, -1.1185e-01, -6.9124e-01, -1.8316e+00,\n",
      "         2.5827e+00,  5.3910e+00,  6.3939e+00,  2.8635e+00,  6.2334e-02,\n",
      "         9.9880e-01,  1.5260e-01, -7.5345e-01,  9.0768e-01,  1.6450e+00,\n",
      "        -7.2267e-02,  4.1942e-01, -6.7981e-01, -1.1968e+00, -1.8703e+00,\n",
      "         5.5377e-01, -5.0973e-01, -4.9192e-01,  2.0944e+00, -9.9584e-01,\n",
      "        -6.5534e-01, -1.7752e+00, -2.8812e-01,  1.2089e+00, -9.3350e-02,\n",
      "         4.6972e+00,  1.1818e+00,  9.1299e-01,  2.6384e+00,  1.9745e+00,\n",
      "        -1.5490e+00,  2.4318e+00, -5.3895e-01,  8.9282e-01, -1.2548e+00,\n",
      "        -1.2543e+00, -1.5293e+00, -1.5750e+00,  1.1924e+00, -7.0071e-01,\n",
      "        -9.0332e-01,  2.5048e-01, -1.2197e+00,  2.8932e+00, -4.3679e-01,\n",
      "        -1.6542e+00, -3.1202e+00,  6.5742e-01, -7.7794e-01, -5.4016e-01,\n",
      "         1.2312e-01, -1.0703e-02,  4.6764e-01,  4.0133e-01,  1.3335e+00,\n",
      "        -2.3655e+00, -3.9917e+00, -4.9447e-02,  4.8721e-01, -5.5492e-01,\n",
      "        -1.4285e+00, -5.2600e-02, -2.9994e+00, -3.6115e+00, -1.3414e+00,\n",
      "        -2.1964e+00, -2.1170e+00, -2.6896e+00, -3.6692e-01, -1.0170e+00,\n",
      "        -7.5117e-01,  1.1248e-01, -1.8013e+00, -2.7270e+00, -3.8507e+00,\n",
      "         2.5915e-01, -6.5887e-01, -1.7527e+00,  1.6724e+00,  1.3808e+00,\n",
      "        -1.7875e+00, -5.2236e-01,  1.4458e+00, -4.0817e-01, -3.4951e-01,\n",
      "        -1.5230e+00, -2.3686e+00,  3.0946e-01, -3.3409e-01,  1.6092e-01,\n",
      "         1.2283e-01,  2.8471e-02, -1.7153e-01, -3.1001e+00, -3.9549e+00,\n",
      "         3.1136e-01,  5.2228e-01,  3.7792e-01,  1.9123e+00,  2.2481e+00,\n",
      "        -8.3737e-01, -1.5906e+00, -1.7494e+00, -1.8328e+00, -1.3967e+00,\n",
      "         6.4678e-01,  7.6698e-01, -4.0637e-01, -1.8445e+00,  2.0532e+00,\n",
      "        -1.1728e+00, -2.1554e+00,  3.8815e-01, -2.8968e+00, -8.5393e-02,\n",
      "         8.2068e-01, -1.2280e+00, -7.7474e-01, -9.8572e-01, -1.3277e-01,\n",
      "         3.2556e-01, -1.6146e+00,  1.8050e+00, -1.8929e-01, -5.2596e-01,\n",
      "        -5.6798e-02,  5.7347e-01,  2.1511e+00,  1.0767e+00, -2.9967e-01,\n",
      "         4.0441e-01, -2.8609e-01,  1.3579e+00,  2.4750e+00, -1.0867e+00,\n",
      "        -1.3409e-01, -2.5699e+00, -2.1994e+00,  5.5765e-01,  1.8525e+00,\n",
      "         1.2453e+00,  8.1211e-01,  1.7169e+00, -2.6563e+00, -1.2311e+00,\n",
      "        -5.0834e-01,  4.1961e-02, -7.0224e-01,  2.1241e+00,  3.1355e+00,\n",
      "         4.9690e-01, -3.9938e-01, -1.1610e+00,  2.6060e-01, -1.5735e+00,\n",
      "         2.9393e-01, -1.3264e+00,  6.7074e-01,  2.0427e+00,  8.9492e-01,\n",
      "        -1.3691e+00, -9.0066e-01, -1.2307e+00, -8.5907e-01, -8.2648e-01,\n",
      "        -7.2416e-01, -4.3816e-01, -2.3585e-01, -2.2333e+00, -9.6212e-01,\n",
      "        -3.4820e+00,  1.2806e+00,  6.1825e-01, -1.5795e+00, -1.0051e+00,\n",
      "        -9.7118e-01, -1.6972e-02,  4.4361e-01,  9.7902e-01, -2.1455e+00,\n",
      "        -1.0818e+00,  1.8672e+00,  1.0465e-01, -1.1177e+00, -1.0788e+00,\n",
      "         5.7788e-01, -1.1466e+00, -5.1757e-01,  3.0133e-01,  5.9978e-01,\n",
      "        -1.7518e+00,  1.0528e-01,  3.3727e+00,  6.6370e-01, -7.3170e-01,\n",
      "        -1.1157e+00, -1.0760e+00, -1.7644e-01,  1.6160e+00, -5.1676e-01,\n",
      "        -3.7355e-02, -6.5958e-01, -5.1047e-01, -1.5785e+00,  2.0827e-01,\n",
      "         3.6543e-01, -1.5673e+00,  2.5849e+00, -1.3525e+00,  2.3743e+00,\n",
      "        -2.0301e+00, -3.6402e-01, -7.4327e-01, -2.0588e-01,  2.2687e+00,\n",
      "        -1.0287e+00, -1.0464e+00, -5.5536e+00, -1.0947e+00, -2.2432e+00,\n",
      "        -2.2467e+00, -9.7575e-01,  1.7677e+00,  4.8652e-01,  1.4647e-01,\n",
      "        -1.0163e+00, -7.1231e-01,  8.3915e-01, -7.2118e-01,  1.6299e-01,\n",
      "         2.1676e+00,  3.3834e-01, -3.7376e-01, -2.7165e-01, -6.6897e-01,\n",
      "        -1.8339e+00,  1.2424e-01, -1.9148e-01,  2.1828e+00, -5.7100e-02,\n",
      "        -1.3597e+00, -1.7828e+00,  1.2700e+00, -3.7810e-01,  4.6466e+00,\n",
      "         1.5633e+00,  5.4555e-01, -5.3486e-01,  1.6533e+00, -3.6282e-01,\n",
      "         1.2511e+00,  8.7247e-01, -7.2256e-02, -7.4673e-01, -1.2112e+00,\n",
      "        -2.4617e+00,  5.7479e-01,  1.0272e-01, -3.0034e-01, -1.8553e+00,\n",
      "         3.8385e-01,  7.0100e-01, -6.4588e-01, -7.8293e-01,  5.8508e-01,\n",
      "        -7.2640e-01,  2.1400e+00,  2.3116e-01, -1.0434e+00, -2.0175e+00,\n",
      "         4.0911e-01,  6.1559e-01, -2.0256e-01,  1.2906e-01, -1.5174e-01,\n",
      "        -1.5231e+00,  3.7640e-01,  9.1887e-01, -1.1127e-01, -1.7229e+00,\n",
      "        -2.5250e+00, -1.2399e+00, -1.6609e+00, -4.9533e-02,  8.9906e-01,\n",
      "        -1.4543e+00, -6.2981e-02, -9.4104e-01,  1.3903e+00, -1.5849e+00,\n",
      "        -7.5423e-01,  3.4552e+00,  2.0644e+00,  2.5948e-01, -1.1030e+00,\n",
      "        -8.9831e-01, -1.5546e-01,  3.6403e-01, -1.8181e+00,  1.0744e+00,\n",
      "         1.6060e+00,  9.4679e-02, -2.3046e-01,  4.0995e-02, -2.1912e+00,\n",
      "         7.9664e-01,  2.6189e-01,  2.3826e+00, -9.2375e-01, -1.7903e+00,\n",
      "         1.2551e-01, -5.4314e-01, -1.9375e+00,  4.4195e-01,  1.8747e+00,\n",
      "        -6.8338e-01,  2.7900e+00, -2.2576e+00, -1.9741e+00, -8.3866e-01,\n",
      "        -1.0927e+00, -2.3664e+00,  4.1462e-01,  1.4248e-01, -1.7995e+00,\n",
      "        -2.7896e-01,  1.2172e+00,  1.0992e+00, -1.8520e-01,  2.9030e-01,\n",
      "         5.7806e-01, -6.8574e-01,  8.7389e-02, -1.5035e+00,  1.3086e+00,\n",
      "         1.1546e+00,  1.1846e-01,  2.0439e+00, -1.2885e+00, -1.9019e+00,\n",
      "         8.0995e-01,  4.1086e-02,  1.4980e-01,  2.8706e-01,  4.6107e-01,\n",
      "        -4.5139e-01,  4.1344e+00, -5.2124e-01, -1.3821e+00, -1.5420e-02,\n",
      "        -2.0235e-01,  1.9055e+00, -1.0010e+00, -2.0046e+00, -1.2056e+00,\n",
      "         2.9031e-01, -2.1070e+00, -2.1326e+00, -4.9003e-01, -7.9553e-01,\n",
      "        -1.0346e+00, -1.9397e+00, -6.8288e-02,  4.9959e-01, -7.7608e-02,\n",
      "         1.8082e-01, -2.1652e-01, -1.7763e+00,  6.2266e-01, -3.4899e-01,\n",
      "         1.5236e+00, -1.0410e+00, -2.5923e+00,  1.2085e+00, -7.9445e-01,\n",
      "        -2.2573e+00, -1.1834e-01,  2.3174e-01,  9.4567e-01, -1.8828e+00,\n",
      "        -2.3556e+00,  1.3470e+00,  6.4159e-01, -7.2930e-01, -8.8544e-01,\n",
      "        -2.7610e+00,  1.8733e+00, -2.0879e-01,  1.1912e-01,  8.1170e-01,\n",
      "        -7.9686e-01, -9.0680e-01,  1.7048e+00,  1.3574e+00, -1.1055e+00,\n",
      "        -7.4800e-01, -4.5787e+00, -1.0399e+00,  6.1047e-01, -2.2398e+00,\n",
      "        -9.3813e-03,  1.4005e+00, -1.3131e+00,  9.6400e-02, -1.9672e+00,\n",
      "        -2.6771e-01, -1.9140e+00, -1.9674e+00, -3.9607e-01, -4.0739e+00,\n",
      "        -7.0035e-01, -6.7020e-01,  1.0259e+00, -1.8295e+00,  4.9275e-01,\n",
      "        -2.1938e+00,  8.5932e-01, -1.5164e+00,  2.1868e+00,  1.0053e+00,\n",
      "         1.1587e+00,  1.2329e+00,  9.4269e-01, -5.4513e-01,  1.1483e+00,\n",
      "         9.9737e-01,  1.9728e+00, -7.9368e-01, -1.5064e-01, -3.9933e-01,\n",
      "        -4.7156e-01,  2.3797e+00, -1.3125e+00, -4.1223e-01,  5.8889e-01,\n",
      "         1.1337e+00,  2.4878e-01, -1.4671e+00,  3.1672e+00, -3.3441e-01,\n",
      "         3.5220e-01,  1.5297e+00,  6.5348e-01, -7.9813e-01, -1.4292e+00,\n",
      "        -1.7508e+00, -1.3396e+00, -1.8549e+00,  1.3376e+00, -2.8279e+00,\n",
      "        -8.4971e-01, -4.5904e-01,  9.7757e-01,  1.1362e+00,  2.3635e-01,\n",
      "        -4.8809e-01, -1.0056e+00,  1.7697e+00,  4.3909e-02, -2.0320e-01,\n",
      "         4.5244e-01,  2.2109e-01,  2.3199e+00, -8.9795e-01, -2.4936e+00,\n",
      "        -1.8956e+00, -1.9415e+00,  4.3283e-02, -1.4917e+00, -1.8406e-01,\n",
      "        -1.0562e+00, -1.8524e+00,  6.0727e-01, -2.7266e+00, -1.0466e+00,\n",
      "         3.5877e+00, -6.2127e-01,  5.7452e-01, -4.4227e-01, -6.0067e-02,\n",
      "         4.8726e-01,  4.8826e-01, -2.4690e+00,  4.1191e-01,  1.0732e+00,\n",
      "         9.3909e-01, -1.0708e+00,  2.2816e+00,  4.4190e-01, -1.2598e+00,\n",
      "        -4.7484e-01, -1.3659e+00, -4.9099e-01, -2.8423e-01,  2.2655e-01,\n",
      "        -1.0871e-01,  3.9156e+00,  5.6616e-01,  1.0714e-01, -2.7578e+00,\n",
      "        -2.1005e+00, -1.8217e-01, -2.1068e-01, -1.0794e+00,  6.3909e-01,\n",
      "         6.0117e-01,  6.8416e-01,  1.8310e+00,  4.7238e-01, -1.0757e+00,\n",
      "        -4.3509e-01, -5.9590e-01, -1.0432e+00,  1.6481e+00,  4.1502e-01,\n",
      "         1.5491e-01, -1.4294e+00, -3.2228e-01, -3.8463e-01, -3.4619e-01,\n",
      "         1.3294e+00,  4.9685e-01,  4.7617e+00, -1.4655e+00, -9.3554e-01,\n",
      "        -2.5451e-01, -1.8215e+00, -1.2040e+00, -5.4667e-01, -2.0594e+00,\n",
      "        -8.9480e-01, -3.7502e-01,  1.8928e-01, -2.1615e+00,  6.8265e-01,\n",
      "         6.6691e-01, -2.3398e-01,  1.5941e+00, -2.8771e-01,  8.4578e-01,\n",
      "         1.0385e+00, -1.6923e-01, -3.8572e-01, -4.6883e-02, -3.8097e+00,\n",
      "        -6.6123e-01,  2.0870e+00, -2.1004e+00,  5.3965e-01,  1.5145e+00,\n",
      "         1.9913e+00, -1.0415e+00,  8.1989e-01, -1.5048e+00, -1.1611e+00,\n",
      "        -1.2903e+00, -5.0271e-01, -3.4022e+00, -1.3990e+00, -1.1075e+00,\n",
      "        -1.5195e+00, -8.1167e-01, -6.1600e-03, -1.6215e+00, -1.6200e+00,\n",
      "        -3.1629e+00, -2.0996e-04, -4.6137e-01, -2.0681e-01, -7.8552e-01,\n",
      "        -1.9155e-01, -1.6744e+00,  1.4653e+00, -6.4916e-01,  6.6898e-01,\n",
      "        -2.8260e-01, -1.7052e+00, -4.2775e-01, -1.9692e+00,  6.4841e-01,\n",
      "         2.1865e-01, -5.8163e-01,  2.6313e+00, -8.7590e-01, -8.4983e-01,\n",
      "        -3.5468e-01, -9.7866e-02, -1.6981e+00, -7.9244e-01, -4.9086e-01,\n",
      "        -1.9652e+00, -4.5403e-01, -1.9348e+00, -1.4981e-02, -9.1651e-01,\n",
      "        -1.0795e+00, -1.4098e+00, -9.4895e-01, -1.6395e+00,  2.4803e+00,\n",
      "        -8.9321e-01, -1.1523e+00, -6.2900e-01, -2.5171e+00, -4.4567e-01,\n",
      "         7.2549e-01, -7.0211e-01,  2.7455e+00,  2.0548e+00, -1.4174e-01,\n",
      "        -1.4292e+00, -1.0815e+00, -1.6127e+00,  9.2056e-01,  1.1905e-01,\n",
      "        -6.7013e-01, -4.8397e-02, -7.9915e-01,  1.7239e+00,  1.6167e+00,\n",
      "         2.9594e-01, -1.2275e-01, -8.3370e-01, -2.8104e-01,  1.3021e-01,\n",
      "        -1.3819e+00,  1.4736e+00,  2.3947e+00,  1.1290e+00, -1.7544e-02,\n",
      "        -1.8492e+00, -8.5648e-01, -7.4951e-01, -6.0788e-01, -1.6082e+00,\n",
      "        -2.4531e+00,  1.1408e+00, -1.5267e+00,  1.0321e+00,  2.0267e-01,\n",
      "        -1.2123e-02,  2.8846e+00, -7.2888e-01, -3.1148e+00, -1.3770e+00,\n",
      "         2.1375e+00, -1.5760e+00,  5.8303e-01, -7.7441e-01,  4.9826e-01,\n",
      "         1.5099e-01, -2.9593e-02,  8.7164e-01, -1.8424e+00, -1.1896e+00,\n",
      "        -8.2445e-01,  1.2416e+00,  1.3307e+00,  1.3703e-01, -5.1207e-01,\n",
      "         2.1070e+00, -5.7916e-01, -2.6201e-01, -3.3853e+00, -1.1297e+00,\n",
      "        -5.9502e-01, -1.4694e+00, -1.9768e+00,  2.4667e-01, -4.3579e-01],\n",
      "       device='cuda:0')\n",
      "tensor([2.2477e-06, 5.7400e-07, 7.9565e-07, 4.7353e-07, 1.4483e-07, 3.1733e-06,\n",
      "        8.5920e-07, 5.1084e-05, 3.1556e-04, 2.8510e-06, 1.2210e-07, 7.2553e-07,\n",
      "        4.1613e-07, 1.8176e-07, 1.5905e-07, 4.7588e-07, 1.3131e-06, 8.2814e-06,\n",
      "        2.1882e-06, 8.3071e-07, 3.3004e-07, 1.3086e-06, 1.4239e-06, 7.6416e-06,\n",
      "        4.1103e-07, 1.5671e-06, 1.3381e-06, 1.3068e-06, 8.8368e-07, 7.5265e-06,\n",
      "        7.5759e-07, 9.7183e-07, 1.2716e-06, 1.3984e-07, 2.5436e-07, 7.6369e-07,\n",
      "        7.4310e-07, 5.0083e-07, 1.4653e-07, 1.3704e-06, 1.6676e-06, 1.8347e-07,\n",
      "        5.1056e-07, 1.9160e-07, 4.4136e-06, 2.9145e-07, 1.4549e-06, 5.4293e-07,\n",
      "        2.0363e-07, 7.9110e-07, 2.9179e-06, 1.5745e-06, 2.9114e-06, 3.2598e-06,\n",
      "        7.5408e-07, 9.5603e-07, 6.9310e-07, 9.6028e-07, 1.4572e-06, 1.4425e-06,\n",
      "        1.1160e-05, 5.0048e-07, 2.2334e-07, 5.2380e-07, 1.1736e-07, 3.0964e-07,\n",
      "        1.0006e-06, 9.2338e-07, 8.0743e-07, 2.9008e-08, 9.9102e-07, 3.0449e-06,\n",
      "        9.7636e-07, 6.3146e-07, 3.0023e-06, 3.5149e-07, 4.8064e-07, 1.8626e-06,\n",
      "        7.9632e-06, 1.2757e-06, 6.1713e-07, 2.0525e-06, 2.1246e-06, 7.8778e-07,\n",
      "        7.5442e-06, 4.7284e-07, 8.0486e-07, 3.7378e-07, 2.4519e-07, 1.5549e-05,\n",
      "        6.0483e-07, 1.4846e-07, 9.0999e-08, 1.4313e-06, 4.2215e-06, 8.6242e-08,\n",
      "        3.5526e-07, 5.8716e-07, 3.0866e-07, 6.9188e-06, 5.3148e-06, 4.4286e-07,\n",
      "        2.3653e-06, 1.7859e-07, 4.4242e-03, 5.9283e-06, 1.1163e-05, 1.1308e-07,\n",
      "        6.4403e-07, 1.0530e-07, 5.7140e-07, 3.7456e-08, 3.2782e-06, 1.6537e-06,\n",
      "        4.4355e-06, 2.2437e-06, 5.0947e-07, 2.1004e-07, 5.4467e-06, 4.8631e-06,\n",
      "        8.4640e-07, 1.2573e-06, 3.7263e-06, 2.1592e-06, 3.3701e-06, 1.8026e-06,\n",
      "        9.7421e-07, 2.9534e-05, 1.6126e-06, 8.9403e-06, 1.6598e-06, 4.9547e-07,\n",
      "        2.6600e-06, 1.3276e-07, 1.4165e-06, 2.0070e-06, 1.1234e-06, 1.6589e-07,\n",
      "        1.5677e-07, 7.5852e-08, 1.9113e-07, 4.7035e-07, 1.5863e-07, 6.6292e-07,\n",
      "        3.9399e-06, 8.1476e-07, 1.2697e-06, 2.2275e-07, 1.5427e-07, 3.5914e-07,\n",
      "        2.7282e-07, 1.0855e-03, 7.0805e-04, 4.3377e-05, 1.5019e-03, 9.0415e-06,\n",
      "        9.6149e-06, 7.7250e-04, 3.9444e-05, 9.0486e-06, 4.4220e-06, 2.6073e-06,\n",
      "        1.8420e-06, 1.5384e-06, 1.6179e-06, 4.1656e-07, 1.6639e-06, 5.9937e-07,\n",
      "        1.8056e-06, 1.8487e-04, 2.7035e-05, 1.8650e-06, 1.1526e-06, 2.8720e-05,\n",
      "        2.0803e-04, 3.2416e-06, 1.1471e-05, 5.8783e-06, 6.4276e-07, 1.2264e-05,\n",
      "        7.5771e-06, 1.4192e-06, 8.2607e-06, 1.4565e-06, 7.0890e-06, 1.4797e-04,\n",
      "        2.3369e-04, 4.4734e-06, 2.3570e-05, 2.7930e-06, 1.0856e-05, 4.5450e-07,\n",
      "        1.6702e-04, 1.1927e-04, 6.0754e-06, 1.3105e-05, 1.6083e-06, 2.2627e-06,\n",
      "        9.9647e-07, 5.2370e-04, 3.5166e-05, 1.0297e-05, 3.1279e-06, 1.7990e-03,\n",
      "        2.0426e-05, 9.0818e-06, 1.0228e-06, 2.6823e-04, 2.8772e-05, 2.0714e-06,\n",
      "        3.1951e-07, 2.9958e-06, 4.6519e-05, 7.7477e-06, 5.9357e-06, 2.1882e-05,\n",
      "        1.0008e-04, 2.6937e-05, 1.9462e-05, 4.4879e-06, 1.4839e-05, 5.0793e-07,\n",
      "        2.9918e-03, 6.3089e-04, 3.3143e-03, 2.1292e-05, 2.5027e-05, 1.8467e-04,\n",
      "        9.3317e-05, 4.7631e-05, 4.9561e-04, 3.4855e-03, 2.4145e-03, 4.9656e-06,\n",
      "        4.9610e-06, 1.3429e-03, 1.7864e-05, 6.0436e-06, 3.8253e-06, 1.3166e-05,\n",
      "        3.3672e-05, 9.9368e-06, 6.7013e-06, 1.8061e-06, 6.8210e-05, 6.4417e-06,\n",
      "        4.5375e-06, 7.9221e-05, 9.2043e-03, 1.5179e-03, 1.5234e-03, 1.4716e-05,\n",
      "        3.1503e-06, 1.3802e-05, 8.1735e-06, 4.1006e-05, 1.9974e-04, 8.9950e-03,\n",
      "        8.7330e-01, 3.0271e-02, 2.4023e-03, 1.1074e-02, 1.4964e-05, 2.6241e-04,\n",
      "        2.2909e-04, 3.4680e-05, 8.8872e-06, 4.0564e-05, 1.3825e-06, 3.2916e-04,\n",
      "        1.9671e-02, 1.1452e-05, 2.6143e-05, 1.6991e-04, 3.7986e-04, 1.0200e-06,\n",
      "        3.8584e-06, 5.4092e-05, 2.9899e-05, 3.1142e-03, 3.5004e-05, 4.7882e-05,\n",
      "        1.0017e-05, 1.6776e-03, 5.6445e-05, 8.8002e-05, 3.1127e-06, 6.5376e-05,\n",
      "        3.8353e-06, 8.1796e-06, 2.1109e-06, 2.6721e-05, 1.3841e-05, 1.0028e-05,\n",
      "        2.2898e-06, 2.0946e-06, 7.0745e-06, 8.2841e-07, 7.1671e-07, 2.1849e-06,\n",
      "        2.8453e-07, 1.4160e-07, 6.5699e-07, 5.4277e-07, 4.7062e-07, 3.0185e-07,\n",
      "        3.6348e-06, 9.7359e-07, 9.9318e-08, 1.2068e-06, 1.7025e-06, 1.7350e-07,\n",
      "        5.9092e-07, 1.2551e-06, 4.7186e-06, 1.8904e-07, 1.7132e-07, 2.2101e-07,\n",
      "        1.3220e-07, 8.1572e-08, 3.9815e-07, 4.4729e-07, 9.3519e-08, 3.3867e-07,\n",
      "        1.0774e-06, 1.5401e-06, 4.8893e-07, 2.2091e-06, 1.2376e-06, 3.9567e-07,\n",
      "        3.2692e-05, 5.4211e-04, 1.4778e-03, 4.3290e-05, 2.6295e-06, 6.7076e-06,\n",
      "        2.8779e-06, 1.1630e-06, 6.1234e-06, 1.2800e-05, 2.2983e-06, 3.7579e-06,\n",
      "        1.2519e-06, 7.4649e-07, 3.8066e-07, 4.2983e-06, 1.4840e-06, 1.5106e-06,\n",
      "        2.0062e-05, 9.1265e-07, 1.2829e-06, 4.1864e-07, 1.8521e-06, 8.2755e-06,\n",
      "        2.2504e-06, 2.7087e-04, 8.0544e-06, 6.1560e-06, 3.4566e-05, 1.7795e-05,\n",
      "        5.2488e-07, 2.8112e-05, 1.4412e-06, 6.0331e-06, 7.0446e-07, 7.0477e-07,\n",
      "        5.3532e-07, 5.1143e-07, 8.1405e-06, 1.2260e-06, 1.0011e-06, 3.1738e-06,\n",
      "        7.2959e-07, 4.4596e-05, 1.5962e-06, 4.7247e-07, 1.0907e-07, 4.7677e-06,\n",
      "        1.1349e-06, 1.4395e-06, 2.7942e-06, 2.4443e-06, 3.9436e-06, 3.6905e-06,\n",
      "        9.3744e-06, 2.3198e-07, 4.5627e-08, 2.3514e-06, 4.0215e-06, 1.4184e-06,\n",
      "        5.9213e-07, 2.3440e-06, 1.2308e-07, 6.6736e-08, 6.4602e-07, 2.7472e-07,\n",
      "        2.9744e-07, 1.6777e-07, 1.7118e-06, 8.9353e-07, 1.1656e-06, 2.7647e-06,\n",
      "        4.0785e-07, 1.6162e-07, 5.2534e-08, 3.2014e-06, 1.2784e-06, 4.2817e-07,\n",
      "        1.3156e-05, 9.8285e-06, 4.1353e-07, 1.4653e-06, 1.0489e-05, 1.6426e-06,\n",
      "        1.7418e-06, 5.3870e-07, 2.3128e-07, 3.3666e-06, 1.7689e-06, 2.9019e-06,\n",
      "        2.7934e-06, 2.5419e-06, 2.0811e-06, 1.1128e-07, 4.7339e-08, 3.3730e-06,\n",
      "        4.1650e-06, 3.6051e-06, 1.6723e-05, 2.3394e-05, 1.0694e-06, 5.0351e-07,\n",
      "        4.2956e-07, 3.9520e-07, 6.1126e-07, 4.7172e-06, 5.3197e-06, 1.6455e-06,\n",
      "        3.9059e-07, 1.9252e-05, 7.6465e-07, 2.8622e-07, 3.6422e-06, 1.3637e-07,\n",
      "        2.2683e-06, 5.6132e-06, 7.2357e-07, 1.1385e-06, 9.2194e-07, 2.1634e-06,\n",
      "        3.4213e-06, 4.9158e-07, 1.5020e-05, 2.0445e-06, 1.4601e-06, 2.3341e-06,\n",
      "        4.3838e-06, 2.1232e-05, 7.2513e-06, 1.8308e-06, 3.7019e-06, 1.8559e-06,\n",
      "        9.6052e-06, 2.9354e-05, 8.3335e-07, 2.1605e-06, 1.8911e-07, 2.7392e-07,\n",
      "        4.3150e-06, 1.5751e-05, 8.5828e-06, 5.5653e-06, 1.3755e-05, 1.7345e-07,\n",
      "        7.2134e-07, 1.4860e-06, 2.5764e-06, 1.2241e-06, 2.0667e-05, 5.6823e-05,\n",
      "        4.0606e-06, 1.6571e-06, 7.7374e-07, 3.2061e-06, 5.1220e-07, 3.3147e-06,\n",
      "        6.5576e-07, 4.8316e-06, 1.9052e-05, 6.0458e-06, 6.2834e-07, 1.0038e-06,\n",
      "        7.2160e-07, 1.0464e-06, 1.0811e-06, 1.1976e-06, 1.5941e-06, 1.9515e-06,\n",
      "        2.6477e-07, 9.4396e-07, 7.5958e-08, 8.8910e-06, 4.5845e-06, 5.0915e-07,\n",
      "        9.0425e-07, 9.3544e-07, 2.4290e-06, 3.8499e-06, 6.5762e-06, 2.8909e-07,\n",
      "        8.3746e-07, 1.5984e-05, 2.7431e-06, 8.0796e-07, 8.3998e-07, 4.4032e-06,\n",
      "        7.8496e-07, 1.4724e-06, 3.3393e-06, 4.5007e-06, 4.2854e-07, 2.7448e-06,\n",
      "        7.2037e-05, 4.7977e-06, 1.1886e-06, 8.0954e-07, 8.4232e-07, 2.0709e-06,\n",
      "        1.2434e-05, 1.4736e-06, 2.3800e-06, 1.2774e-06, 1.4829e-06, 5.0965e-07,\n",
      "        3.0426e-06, 3.5604e-06, 5.1538e-07, 3.2763e-05, 6.3889e-07, 2.6542e-05,\n",
      "        3.2444e-07, 1.7167e-06, 1.1749e-06, 2.0109e-06, 2.3883e-05, 8.8314e-07,\n",
      "        8.6768e-07, 9.5697e-09, 8.2671e-07, 2.6216e-07, 2.6125e-07, 9.3117e-07,\n",
      "        1.4471e-05, 4.0187e-06, 2.8603e-06, 8.9419e-07, 1.2118e-06, 5.7178e-06,\n",
      "        1.2011e-06, 2.9079e-06, 2.1585e-05, 3.4652e-06, 1.7001e-06, 1.8829e-06,\n",
      "        1.2655e-06, 3.9476e-07, 2.7974e-06, 2.0400e-06, 2.1916e-05, 2.3334e-06,\n",
      "        6.3428e-07, 4.1547e-07, 8.7971e-06, 1.6927e-06, 2.5752e-04, 1.1796e-05,\n",
      "        4.2631e-06, 1.4471e-06, 1.2907e-05, 1.7188e-06, 8.6322e-06, 5.9116e-06,\n",
      "        2.2983e-06, 1.1708e-06, 7.3582e-07, 2.1071e-07, 4.3896e-06, 2.7378e-06,\n",
      "        1.8296e-06, 3.8640e-07, 3.6266e-06, 4.9801e-06, 1.2951e-06, 1.1292e-06,\n",
      "        4.4350e-06, 1.1949e-06, 2.0998e-05, 3.1131e-06, 8.7022e-07, 3.2856e-07,\n",
      "        3.7194e-06, 4.5724e-06, 2.0176e-06, 2.8109e-06, 2.1227e-06, 5.3866e-07,\n",
      "        3.5997e-06, 6.1924e-06, 2.2104e-06, 4.4110e-07, 1.9779e-07, 7.1499e-07,\n",
      "        4.6932e-07, 2.3512e-06, 6.0709e-06, 5.7703e-07, 2.3198e-06, 9.6407e-07,\n",
      "        9.9223e-06, 5.0640e-07, 1.1621e-06, 7.8228e-05, 1.9470e-05, 3.2025e-06,\n",
      "        8.1992e-07, 1.0062e-06, 2.1148e-06, 3.5554e-06, 4.0106e-07, 7.2341e-06,\n",
      "        1.2311e-05, 2.7159e-06, 1.9620e-06, 2.5739e-06, 2.7616e-07, 5.4799e-06,\n",
      "        3.2102e-06, 2.6763e-05, 9.8088e-07, 4.1235e-07, 2.8009e-06, 1.4352e-06,\n",
      "        3.5593e-07, 3.8436e-06, 1.6106e-05, 1.2474e-06, 4.0224e-05, 2.5842e-07,\n",
      "        3.4312e-07, 1.0680e-06, 8.2840e-07, 2.3178e-07, 3.7399e-06, 2.8489e-06,\n",
      "        4.0857e-07, 1.8691e-06, 8.3448e-06, 7.4158e-06, 2.0529e-06, 3.3027e-06,\n",
      "        4.4039e-06, 1.2445e-06, 2.6962e-06, 5.4933e-07, 9.1435e-06, 7.8385e-06,\n",
      "        2.7813e-06, 1.9074e-05, 6.8108e-07, 3.6883e-07, 5.5533e-06, 2.5742e-06,\n",
      "        2.8698e-06, 3.2920e-06, 3.9177e-06, 1.5731e-06, 1.5429e-04, 1.4670e-06,\n",
      "        6.2024e-07, 2.4328e-06, 2.0180e-06, 1.6610e-05, 9.0797e-07, 3.3282e-07,\n",
      "        7.3995e-07, 3.3027e-06, 3.0042e-07, 2.9284e-07, 1.5135e-06, 1.1151e-06,\n",
      "        8.7798e-07, 3.5514e-07, 2.3075e-06, 4.0716e-06, 2.2861e-06, 2.9602e-06,\n",
      "        1.9896e-06, 4.1819e-07, 4.6048e-06, 1.7427e-06, 1.1337e-05, 8.7237e-07,\n",
      "        1.8492e-07, 8.2726e-06, 1.1163e-06, 2.5849e-07, 2.1948e-06, 3.1149e-06,\n",
      "        6.3605e-06, 3.7591e-07, 2.3431e-07, 9.5011e-06, 4.6928e-06, 1.1914e-06,\n",
      "        1.0192e-06, 1.5621e-07, 1.6083e-05, 2.0050e-06, 2.7831e-06, 5.5631e-06,\n",
      "        1.1136e-06, 9.9765e-07, 1.3589e-05, 9.6009e-06, 8.1788e-07, 1.1693e-06,\n",
      "        2.5368e-08, 8.7330e-07, 4.5490e-06, 2.6305e-07, 2.4475e-06, 1.0024e-05,\n",
      "        6.6457e-07, 2.7206e-06, 3.4551e-07, 1.8903e-06, 3.6440e-07, 3.4545e-07,\n",
      "        1.6626e-06, 4.2025e-08, 1.2264e-06, 1.2640e-06, 6.8920e-06, 3.9649e-07,\n",
      "        4.0439e-06, 2.7546e-07, 5.8344e-06, 5.4230e-07, 2.2005e-05, 6.7515e-06,\n",
      "        7.8708e-06, 8.4770e-06, 6.3416e-06, 1.4323e-06, 7.7892e-06, 6.6980e-06,\n",
      "        1.7765e-05, 1.1171e-06, 2.1251e-06, 1.6572e-06, 1.5417e-06, 2.6686e-05,\n",
      "        6.6494e-07, 1.6359e-06, 4.4519e-06, 7.6764e-06, 3.1684e-06, 5.6969e-07,\n",
      "        5.8656e-05, 1.7683e-06, 3.5136e-06, 1.1406e-05, 4.7489e-06, 1.1122e-06,\n",
      "        5.9173e-07, 4.2898e-07, 6.4713e-07, 3.8656e-07, 9.4124e-06, 1.4610e-07,\n",
      "        1.0563e-06, 1.5611e-06, 6.5667e-06, 7.6959e-06, 3.1293e-06, 1.5164e-06,\n",
      "        9.0381e-07, 1.4500e-05, 2.5815e-06, 2.0163e-06, 3.8841e-06, 3.0818e-06,\n",
      "        2.5137e-05, 1.0065e-06, 2.0410e-07, 3.7115e-07, 3.5451e-07, 2.5798e-06,\n",
      "        5.5583e-07, 2.0552e-06, 8.5921e-07, 3.8752e-07, 4.5345e-06, 1.6168e-07,\n",
      "        8.6752e-07, 8.9310e-05, 1.3273e-06, 4.3884e-06, 1.5875e-06, 2.3265e-06,\n",
      "        4.0217e-06, 4.0257e-06, 2.0918e-07, 3.7298e-06, 7.2256e-06, 6.3188e-06,\n",
      "        8.4672e-07, 2.4193e-05, 3.8433e-06, 7.0093e-07, 1.5367e-06, 6.3033e-07,\n",
      "        1.5120e-06, 1.8593e-06, 3.0987e-06, 2.2161e-06, 1.2398e-04, 4.3519e-06,\n",
      "        2.7500e-06, 1.5672e-07, 3.0239e-07, 2.0591e-06, 2.0012e-06, 8.3951e-07,\n",
      "        4.6811e-06, 4.5069e-06, 4.8969e-06, 1.5416e-05, 3.9623e-06, 8.4259e-07,\n",
      "        1.5990e-06, 1.3614e-06, 8.7044e-07, 1.2840e-05, 3.7414e-06, 2.8845e-06,\n",
      "        5.9156e-07, 1.7899e-06, 1.6817e-06, 1.7476e-06, 9.3359e-06, 4.0604e-06,\n",
      "        2.8892e-04, 5.7058e-07, 9.6938e-07, 1.9154e-06, 3.9970e-07, 7.4111e-07,\n",
      "        1.4301e-06, 3.1507e-07, 1.0097e-06, 1.6980e-06, 2.9854e-06, 2.8450e-07,\n",
      "        4.8895e-06, 4.8132e-06, 1.9551e-06, 1.2164e-05, 1.8529e-06, 5.7559e-06,\n",
      "        6.9795e-06, 2.0859e-06, 1.6799e-06, 2.3574e-06, 5.4733e-08, 1.2753e-06,\n",
      "        1.9915e-05, 3.0242e-07, 4.2380e-06, 1.1234e-05, 1.8097e-05, 8.7194e-07,\n",
      "        5.6088e-06, 5.4859e-07, 7.7366e-07, 6.7988e-07, 1.4944e-06, 8.2266e-08,\n",
      "        6.0985e-07, 8.1623e-07, 5.4061e-07, 1.0972e-06, 2.4554e-06, 4.8818e-07,\n",
      "        4.8891e-07, 1.0451e-07, 2.4700e-06, 1.5575e-06, 2.0090e-06, 1.1263e-06,\n",
      "        2.0399e-06, 4.6303e-07, 1.0694e-05, 1.2908e-06, 4.8231e-06, 1.8623e-06,\n",
      "        4.4901e-07, 1.6107e-06, 3.4480e-07, 4.7249e-06, 3.0743e-06, 1.3810e-06,\n",
      "        3.4322e-05, 1.0290e-06, 1.0561e-06, 1.7328e-06, 2.2402e-06, 4.5220e-07,\n",
      "        1.1185e-06, 1.5122e-06, 3.4618e-07, 1.5690e-06, 3.5689e-07, 2.4338e-06,\n",
      "        9.8801e-07, 8.3939e-07, 6.0330e-07, 9.5647e-07, 4.7946e-07, 2.9510e-05,\n",
      "        1.0113e-06, 7.8045e-07, 1.3171e-06, 1.9935e-07, 1.5821e-06, 5.1035e-06,\n",
      "        1.2243e-06, 3.8472e-05, 1.9283e-05, 2.1441e-06, 5.9172e-07, 8.3771e-07,\n",
      "        4.9250e-07, 6.2028e-06, 2.7829e-06, 1.2640e-06, 2.3538e-06, 1.1110e-06,\n",
      "        1.3851e-05, 1.2443e-05, 3.3214e-06, 2.1852e-06, 1.0733e-06, 1.8653e-06,\n",
      "        2.8141e-06, 6.2038e-07, 1.0784e-05, 2.7089e-05, 7.6401e-06, 2.4276e-06,\n",
      "        3.8877e-07, 1.0491e-06, 1.1676e-06, 1.3452e-06, 4.9471e-07, 2.1253e-07,\n",
      "        7.7314e-06, 5.3674e-07, 6.9344e-06, 3.0256e-06, 2.4408e-06, 4.4215e-05,\n",
      "        1.1919e-06, 1.0966e-07, 6.2341e-07, 2.0945e-05, 5.1089e-07, 4.4259e-06,\n",
      "        1.1389e-06, 4.0662e-06, 2.8732e-06, 2.3985e-06, 5.9067e-06, 3.9143e-07,\n",
      "        7.5189e-07, 1.0833e-06, 8.5507e-06, 9.3481e-06, 2.8334e-06, 1.4805e-06,\n",
      "        2.0316e-05, 1.3844e-06, 1.9011e-06, 8.3672e-08, 7.9834e-07, 1.3626e-06,\n",
      "        5.6840e-07, 3.4219e-07, 3.1617e-06, 1.5978e-06], device='cuda:0')\n"
     ]
    }
   ],
   "source": [
    "# sample execution (requires torchvision)\n",
    "from PIL import Image\n",
    "from torchvision import transforms\n",
    "input_image = Image.open(filename)\n",
    "preprocess = transforms.Compose([\n",
    "    transforms.Resize(256),\n",
    "    transforms.CenterCrop(224),\n",
    "    transforms.ToTensor(),\n",
    "    transforms.Normalize(mean=[0.485, 0.456, 0.406], std=[0.229, 0.224, 0.225]),\n",
    "])\n",
    "input_tensor = preprocess(input_image)\n",
    "input_batch = input_tensor.unsqueeze(0) # create a mini-batch as expected by the model\n",
    "\n",
    "# move the input and model to GPU for speed if available\n",
    "if torch.cuda.is_available():\n",
    "    input_batch = input_batch.to('cuda')\n",
    "    model.to('cuda')\n",
    "\n",
    "with torch.no_grad():\n",
    "    output = model(input_batch)\n",
    "# Tensor of shape 1000, with confidence scores over Imagenet's 1000 classes\n",
    "print(output[0])\n",
    "# The output has unnormalized scores. To get probabilities, you can run a softmax on it.\n",
    "print(torch.nn.functional.softmax(output[0], dim=0))"
   ]
  },
  {
   "cell_type": "code",
   "execution_count": 54,
   "metadata": {},
   "outputs": [
    {
     "name": "stdout",
     "output_type": "stream",
     "text": [
      "Looking in links: https://download.pytorch.org/whl/torch_stable.html\n",
      "Requirement already satisfied: torch===1.6.0 in /usr/local/lib/python3.6/dist-packages (1.6.0)\n",
      "Collecting torchvision===0.4.1\n",
      "  Downloading torchvision-0.4.1-cp36-cp36m-manylinux1_x86_64.whl (10.1 MB)\n",
      "\u001b[K     |████████████████████████████████| 10.1 MB 5.3 MB/s eta 0:00:01\n",
      "\u001b[?25hRequirement already satisfied: numpy in /usr/local/lib/python3.6/dist-packages (from torch===1.6.0) (1.18.1)\n",
      "Requirement already satisfied: future in /usr/local/lib/python3.6/dist-packages (from torch===1.6.0) (0.18.2)\n",
      "Requirement already satisfied: pillow>=4.1.1 in /usr/local/lib/python3.6/dist-packages (from torchvision===0.4.1) (4.3.0)\n",
      "Requirement already satisfied: six in /usr/local/lib/python3.6/dist-packages (from torchvision===0.4.1) (1.14.0)\n",
      "Requirement already satisfied: olefile in /usr/local/lib/python3.6/dist-packages (from pillow>=4.1.1->torchvision===0.4.1) (0.46)\n",
      "Installing collected packages: torchvision\n",
      "  Attempting uninstall: torchvision\n",
      "    Found existing installation: torchvision 0.5.0\n",
      "    Uninstalling torchvision-0.5.0:\n",
      "      Successfully uninstalled torchvision-0.5.0\n",
      "\u001b[31mERROR: After October 2020 you may experience errors when installing or updating packages. This is because pip will change the way that it resolves dependency conflicts.\n",
      "\n",
      "We recommend you use --use-feature=2020-resolver to test your packages with the new resolver before it becomes the default.\n",
      "\n",
      "torchvision 0.4.1 requires torch==1.3.0, but you'll have torch 1.6.0 which is incompatible.\u001b[0m\n",
      "Successfully installed torchvision-0.4.1\n"
     ]
    }
   ],
   "source": [
    "# # !pip uninstall torchvision\n",
    "# # !/usr/bin/python -m pip install --upgrade pip\n",
    "\n",
    "# !pip install torch===1.6.0 torchvision===0.4.1 -f https://download.pytorch.org/whl/torch_stable.html\n",
    "# # !pip install torchvision==0.5.0 -f https://download.pytorch.org/whl/torch_stable.html"
   ]
  },
  {
   "cell_type": "code",
   "execution_count": null,
   "metadata": {},
   "outputs": [],
   "source": []
  },
  {
   "cell_type": "code",
   "execution_count": 30,
   "metadata": {},
   "outputs": [
    {
     "name": "stderr",
     "output_type": "stream",
     "text": [
      "Downloading: \"https://github.com/NVIDIA/DeepLearningExamples/archive/torchhub.zip\" to /root/.cache/torch/hub/torchhub.zip\n"
     ]
    },
    {
     "ename": "ModuleNotFoundError",
     "evalue": "No module named 'skimage'",
     "output_type": "error",
     "traceback": [
      "\u001b[0;31m---------------------------------------------------------------------------\u001b[0m",
      "\u001b[0;31mModuleNotFoundError\u001b[0m                       Traceback (most recent call last)",
      "\u001b[0;32m<ipython-input-30-c7509c83321a>\u001b[0m in \u001b[0;36m<module>\u001b[0;34m\u001b[0m\n\u001b[1;32m      7\u001b[0m \u001b[0;34m\u001b[0m\u001b[0m\n\u001b[1;32m      8\u001b[0m \u001b[0;31m# For convenient and comprehensive formatting of input and output of the model, load a set of utility methods.\u001b[0m\u001b[0;34m\u001b[0m\u001b[0;34m\u001b[0m\u001b[0;34m\u001b[0m\u001b[0m\n\u001b[0;32m----> 9\u001b[0;31m \u001b[0mutils\u001b[0m \u001b[0;34m=\u001b[0m \u001b[0mtorch\u001b[0m\u001b[0;34m.\u001b[0m\u001b[0mhub\u001b[0m\u001b[0;34m.\u001b[0m\u001b[0mload\u001b[0m\u001b[0;34m(\u001b[0m\u001b[0;34m'NVIDIA/DeepLearningExamples:torchhub'\u001b[0m\u001b[0;34m,\u001b[0m \u001b[0;34m'nvidia_ssd_processing_utils'\u001b[0m\u001b[0;34m)\u001b[0m\u001b[0;34m\u001b[0m\u001b[0;34m\u001b[0m\u001b[0m\n\u001b[0m\u001b[1;32m     10\u001b[0m \u001b[0;34m\u001b[0m\u001b[0m\n\u001b[1;32m     11\u001b[0m \u001b[0;31m# Format images to comply with the network input\u001b[0m\u001b[0;34m\u001b[0m\u001b[0;34m\u001b[0m\u001b[0;34m\u001b[0m\u001b[0m\n",
      "\u001b[0;32m/usr/local/lib/python3.6/dist-packages/torch/hub.py\u001b[0m in \u001b[0;36mload\u001b[0;34m(github, model, *args, **kwargs)\u001b[0m\n\u001b[1;32m    367\u001b[0m     \u001b[0mentry\u001b[0m \u001b[0;34m=\u001b[0m \u001b[0m_load_entry_from_hubconf\u001b[0m\u001b[0;34m(\u001b[0m\u001b[0mhub_module\u001b[0m\u001b[0;34m,\u001b[0m \u001b[0mmodel\u001b[0m\u001b[0;34m)\u001b[0m\u001b[0;34m\u001b[0m\u001b[0;34m\u001b[0m\u001b[0m\n\u001b[1;32m    368\u001b[0m \u001b[0;34m\u001b[0m\u001b[0m\n\u001b[0;32m--> 369\u001b[0;31m     \u001b[0mmodel\u001b[0m \u001b[0;34m=\u001b[0m \u001b[0mentry\u001b[0m\u001b[0;34m(\u001b[0m\u001b[0;34m*\u001b[0m\u001b[0margs\u001b[0m\u001b[0;34m,\u001b[0m \u001b[0;34m**\u001b[0m\u001b[0mkwargs\u001b[0m\u001b[0;34m)\u001b[0m\u001b[0;34m\u001b[0m\u001b[0;34m\u001b[0m\u001b[0m\n\u001b[0m\u001b[1;32m    370\u001b[0m \u001b[0;34m\u001b[0m\u001b[0m\n\u001b[1;32m    371\u001b[0m     \u001b[0msys\u001b[0m\u001b[0;34m.\u001b[0m\u001b[0mpath\u001b[0m\u001b[0;34m.\u001b[0m\u001b[0mremove\u001b[0m\u001b[0;34m(\u001b[0m\u001b[0mrepo_dir\u001b[0m\u001b[0;34m)\u001b[0m\u001b[0;34m\u001b[0m\u001b[0;34m\u001b[0m\u001b[0m\n",
      "\u001b[0;32m~/.cache/torch/hub/NVIDIA_DeepLearningExamples_torchhub/hubconf.py\u001b[0m in \u001b[0;36mnvidia_ssd_processing_utils\u001b[0;34m()\u001b[0m\n\u001b[1;32m    228\u001b[0m \u001b[0;32mdef\u001b[0m \u001b[0mnvidia_ssd_processing_utils\u001b[0m\u001b[0;34m(\u001b[0m\u001b[0;34m)\u001b[0m\u001b[0;34m:\u001b[0m\u001b[0;34m\u001b[0m\u001b[0;34m\u001b[0m\u001b[0m\n\u001b[1;32m    229\u001b[0m     \u001b[0;32mimport\u001b[0m \u001b[0mnumpy\u001b[0m \u001b[0;32mas\u001b[0m \u001b[0mnp\u001b[0m\u001b[0;34m\u001b[0m\u001b[0;34m\u001b[0m\u001b[0m\n\u001b[0;32m--> 230\u001b[0;31m     \u001b[0;32mimport\u001b[0m \u001b[0mskimage\u001b[0m\u001b[0;34m\u001b[0m\u001b[0;34m\u001b[0m\u001b[0m\n\u001b[0m\u001b[1;32m    231\u001b[0m     \u001b[0;32mfrom\u001b[0m \u001b[0mskimage\u001b[0m \u001b[0;32mimport\u001b[0m \u001b[0mio\u001b[0m\u001b[0;34m,\u001b[0m \u001b[0mtransform\u001b[0m\u001b[0;34m\u001b[0m\u001b[0;34m\u001b[0m\u001b[0m\n\u001b[1;32m    232\u001b[0m \u001b[0;34m\u001b[0m\u001b[0m\n",
      "\u001b[0;31mModuleNotFoundError\u001b[0m: No module named 'skimage'"
     ]
    }
   ],
   "source": [
    "# Sample images from the COCO validation set\n",
    "uris = [\n",
    "    'http://images.cocodataset.org/val2017/000000397133.jpg',\n",
    "    'http://images.cocodataset.org/val2017/000000037777.jpg',\n",
    "    'http://images.cocodataset.org/val2017/000000252219.jpg'\n",
    "]\n",
    "\n",
    "# For convenient and comprehensive formatting of input and output of the model, load a set of utility methods.\n",
    "utils = torch.hub.load('NVIDIA/DeepLearningExamples:torchhub', 'nvidia_ssd_processing_utils')\n",
    "\n",
    "# Format images to comply with the network input\n",
    "inputs = [utils.prepare_input(uri) for uri in uris]\n",
    "tensor = utils.prepare_tensor(inputs, False)\n",
    "\n",
    "# The model was trained on COCO dataset, which we need to access in order to\n",
    "# translate class IDs into object names. \n",
    "classes_to_labels = utils.get_coco_object_dictionary()"
   ]
  },
  {
   "cell_type": "code",
   "execution_count": 11,
   "metadata": {},
   "outputs": [
    {
     "name": "stdout",
     "output_type": "stream",
     "text": [
      "Warm up ...\n",
      "Start timing ...\n",
      "Iteration 1000/10000, ave batch time 0.93 ms\n",
      "Iteration 2000/10000, ave batch time 0.93 ms\n",
      "Iteration 3000/10000, ave batch time 0.93 ms\n",
      "Iteration 4000/10000, ave batch time 0.93 ms\n",
      "Iteration 5000/10000, ave batch time 0.93 ms\n",
      "Iteration 6000/10000, ave batch time 0.93 ms\n",
      "Iteration 7000/10000, ave batch time 0.93 ms\n",
      "Iteration 8000/10000, ave batch time 0.93 ms\n",
      "Iteration 9000/10000, ave batch time 0.93 ms\n",
      "Iteration 10000/10000, ave batch time 0.93 ms\n",
      "Input shape: torch.Size([1024, 1, 32, 32])\n",
      "Output features size: torch.Size([1024, 10])\n",
      "Average batch time: 0.93 ms\n"
     ]
    }
   ],
   "source": [
    "benchmark(model)"
   ]
  },
  {
   "cell_type": "code",
   "execution_count": null,
   "metadata": {},
   "outputs": [],
   "source": []
  },
  {
   "cell_type": "code",
   "execution_count": null,
   "metadata": {},
   "outputs": [],
   "source": []
  },
  {
   "cell_type": "code",
   "execution_count": null,
   "metadata": {},
   "outputs": [],
   "source": []
  },
  {
   "cell_type": "markdown",
   "metadata": {},
   "source": [
    "When compiling your module to TorchScript, there are two paths: Tracing and Scripting.  \n",
    " \n",
    "### Tracing\n",
    "\n",
    "Tracing follows the path of execution when the module is called and records what happens. This recording is what the TorchScript IR will describe. To trace an instance of our LeNet module, we can call torch.jit.trace  with an example input. "
   ]
  },
  {
   "cell_type": "code",
   "execution_count": 12,
   "metadata": {},
   "outputs": [
    {
     "data": {
      "text/plain": [
       "LeNet(\n",
       "  original_name=LeNet\n",
       "  (feat): LeNetFeatExtractor(\n",
       "    original_name=LeNetFeatExtractor\n",
       "    (conv1): Conv2d(original_name=Conv2d)\n",
       "    (conv2): Conv2d(original_name=Conv2d)\n",
       "  )\n",
       "  (classifer): LeNetClassifier(\n",
       "    original_name=LeNetClassifier\n",
       "    (fc1): Linear(original_name=Linear)\n",
       "    (fc2): Linear(original_name=Linear)\n",
       "    (fc3): Linear(original_name=Linear)\n",
       "  )\n",
       ")"
      ]
     },
     "execution_count": 12,
     "metadata": {},
     "output_type": "execute_result"
    }
   ],
   "source": [
    "traced_model = torch.jit.trace(model, torch.empty([1,1,32,32]).to(\"cuda\"))\n",
    "traced_model"
   ]
  },
  {
   "cell_type": "code",
   "execution_count": 13,
   "metadata": {},
   "outputs": [
    {
     "name": "stdout",
     "output_type": "stream",
     "text": [
      "Warm up ...\n",
      "Start timing ...\n",
      "Iteration 1000/10000, ave batch time 0.68 ms\n",
      "Iteration 2000/10000, ave batch time 0.68 ms\n",
      "Iteration 3000/10000, ave batch time 0.68 ms\n",
      "Iteration 4000/10000, ave batch time 0.68 ms\n",
      "Iteration 5000/10000, ave batch time 0.68 ms\n",
      "Iteration 6000/10000, ave batch time 0.68 ms\n",
      "Iteration 7000/10000, ave batch time 0.68 ms\n",
      "Iteration 8000/10000, ave batch time 0.68 ms\n",
      "Iteration 9000/10000, ave batch time 0.68 ms\n",
      "Iteration 10000/10000, ave batch time 0.68 ms\n",
      "Input shape: torch.Size([1024, 1, 32, 32])\n",
      "Output features size: torch.Size([1024, 10])\n",
      "Average batch time: 0.68 ms\n"
     ]
    }
   ],
   "source": [
    "benchmark(traced_model)"
   ]
  },
  {
   "cell_type": "markdown",
   "metadata": {},
   "source": [
    "### Scripting\n",
    "\n",
    "Scripting actually inspects your code with a compiler and  generates an equivalent TorchScript program. The difference is that since tracing simply follows the execution of your module, it cannot pick up control flow for instance, it will only follow the code path that a particular input triggers. By working from the Python code, the compiler can include these components. We can run the script compiler on our LeNet  module by calling torch.jit.script.\n"
   ]
  },
  {
   "cell_type": "code",
   "execution_count": 14,
   "metadata": {},
   "outputs": [],
   "source": [
    "model = LeNet().to(\"cuda\").eval()\n",
    "script_model = torch.jit.script(model)\n"
   ]
  },
  {
   "cell_type": "code",
   "execution_count": 15,
   "metadata": {},
   "outputs": [
    {
     "data": {
      "text/plain": [
       "RecursiveScriptModule(\n",
       "  original_name=LeNet\n",
       "  (feat): RecursiveScriptModule(\n",
       "    original_name=LeNetFeatExtractor\n",
       "    (conv1): RecursiveScriptModule(original_name=Conv2d)\n",
       "    (conv2): RecursiveScriptModule(original_name=Conv2d)\n",
       "  )\n",
       "  (classifer): RecursiveScriptModule(\n",
       "    original_name=LeNetClassifier\n",
       "    (fc1): RecursiveScriptModule(original_name=Linear)\n",
       "    (fc2): RecursiveScriptModule(original_name=Linear)\n",
       "    (fc3): RecursiveScriptModule(original_name=Linear)\n",
       "  )\n",
       ")"
      ]
     },
     "execution_count": 15,
     "metadata": {},
     "output_type": "execute_result"
    }
   ],
   "source": [
    "script_model"
   ]
  },
  {
   "cell_type": "code",
   "execution_count": 16,
   "metadata": {},
   "outputs": [
    {
     "name": "stdout",
     "output_type": "stream",
     "text": [
      "Warm up ...\n",
      "Start timing ...\n",
      "Iteration 1000/10000, ave batch time 0.68 ms\n",
      "Iteration 2000/10000, ave batch time 0.68 ms\n",
      "Iteration 3000/10000, ave batch time 0.68 ms\n",
      "Iteration 4000/10000, ave batch time 0.68 ms\n",
      "Iteration 5000/10000, ave batch time 0.68 ms\n",
      "Iteration 6000/10000, ave batch time 0.68 ms\n",
      "Iteration 7000/10000, ave batch time 0.68 ms\n",
      "Iteration 8000/10000, ave batch time 0.68 ms\n",
      "Iteration 9000/10000, ave batch time 0.68 ms\n",
      "Iteration 10000/10000, ave batch time 0.68 ms\n",
      "Input shape: torch.Size([1024, 1, 32, 32])\n",
      "Output features size: torch.Size([1024, 10])\n",
      "Average batch time: 0.68 ms\n"
     ]
    }
   ],
   "source": [
    "benchmark(script_model)"
   ]
  },
  {
   "cell_type": "markdown",
   "metadata": {},
   "source": [
    "<a id=\"3\"></a>\n",
    "## 3. Compiling with TRTorch"
   ]
  },
  {
   "cell_type": "markdown",
   "metadata": {},
   "source": [
    "### TorchScript traced model\n",
    "\n",
    "First, we compile the TorchScript traced model with TRTorch. Notice the performance impact."
   ]
  },
  {
   "cell_type": "code",
   "execution_count": 17,
   "metadata": {},
   "outputs": [],
   "source": [
    "import trtorch\n",
    "\n",
    "compile_settings = {\n",
    "    \"input_shapes\": [\n",
    "        {\n",
    "            \"min\" : [1, 1, 32, 32],\n",
    "            \"opt\" : [1, 1, 33, 33],\n",
    "            \"max\" : [1, 1, 34, 34],\n",
    "        }\n",
    "    ],\n",
    "    \"op_precision\": torch.half # Run with FP16\n",
    "}\n",
    "\n",
    "trt_ts_module = trtorch.compile(traced_model, compile_settings)\n",
    "\n",
    "input_data = torch.randn((1, 1, 32, 32))\n",
    "input_data = input_data.half().to(\"cuda\")\n",
    "\n",
    "input_data = input_data.half()\n",
    "result = trt_ts_module(input_data)\n",
    "torch.jit.save(trt_ts_module, \"trt_ts_module.ts\")"
   ]
  },
  {
   "cell_type": "code",
   "execution_count": 18,
   "metadata": {},
   "outputs": [
    {
     "name": "stdout",
     "output_type": "stream",
     "text": [
      "Warm up ...\n",
      "Start timing ...\n",
      "Iteration 1000/10000, ave batch time 0.24 ms\n",
      "Iteration 2000/10000, ave batch time 0.24 ms\n",
      "Iteration 3000/10000, ave batch time 0.24 ms\n",
      "Iteration 4000/10000, ave batch time 0.24 ms\n",
      "Iteration 5000/10000, ave batch time 0.24 ms\n",
      "Iteration 6000/10000, ave batch time 0.24 ms\n",
      "Iteration 7000/10000, ave batch time 0.23 ms\n",
      "Iteration 8000/10000, ave batch time 0.23 ms\n",
      "Iteration 9000/10000, ave batch time 0.23 ms\n",
      "Iteration 10000/10000, ave batch time 0.23 ms\n",
      "Input shape: torch.Size([1024, 1, 32, 32])\n",
      "Output features size: torch.Size([1, 10])\n",
      "Average batch time: 0.23 ms\n"
     ]
    }
   ],
   "source": [
    "benchmark(trt_ts_module, dtype=\"fp16\")"
   ]
  },
  {
   "cell_type": "markdown",
   "metadata": {},
   "source": [
    "### TorchScript script model\n",
    "\n",
    "Next, we compile the TorchScript script model with TRTorch. Notice the performance impact."
   ]
  },
  {
   "cell_type": "code",
   "execution_count": 19,
   "metadata": {},
   "outputs": [],
   "source": [
    "import trtorch\n",
    "\n",
    "compile_settings = {\n",
    "    \"input_shapes\": [\n",
    "        {\n",
    "            \"min\" : [1, 1, 32, 32],\n",
    "            \"opt\" : [1, 1, 33, 33],\n",
    "            \"max\" : [1, 1, 34, 34],\n",
    "        }\n",
    "    ],\n",
    "    \"op_precision\": torch.half # Run with FP16\n",
    "}\n",
    "\n",
    "trt_script_module = trtorch.compile(script_model, compile_settings)\n",
    "\n",
    "input_data = torch.randn((1, 1, 32, 32))\n",
    "input_data = input_data.half().to(\"cuda\")\n",
    "\n",
    "input_data = input_data.half()\n",
    "result = trt_script_module(input_data)\n",
    "torch.jit.save(trt_script_module, \"trt_script_module.ts\")"
   ]
  },
  {
   "cell_type": "code",
   "execution_count": 20,
   "metadata": {},
   "outputs": [
    {
     "name": "stdout",
     "output_type": "stream",
     "text": [
      "Warm up ...\n",
      "Start timing ...\n",
      "Iteration 1000/10000, ave batch time 0.20 ms\n",
      "Iteration 2000/10000, ave batch time 0.20 ms\n",
      "Iteration 3000/10000, ave batch time 0.20 ms\n",
      "Iteration 4000/10000, ave batch time 0.21 ms\n",
      "Iteration 5000/10000, ave batch time 0.21 ms\n",
      "Iteration 6000/10000, ave batch time 0.21 ms\n",
      "Iteration 7000/10000, ave batch time 0.21 ms\n",
      "Iteration 8000/10000, ave batch time 0.21 ms\n",
      "Iteration 9000/10000, ave batch time 0.21 ms\n",
      "Iteration 10000/10000, ave batch time 0.21 ms\n",
      "Input shape: torch.Size([1024, 1, 32, 32])\n",
      "Output features size: torch.Size([1, 10])\n",
      "Average batch time: 0.21 ms\n"
     ]
    }
   ],
   "source": [
    "benchmark(trt_ts_module, dtype=\"fp16\")"
   ]
  },
  {
   "cell_type": "markdown",
   "metadata": {},
   "source": [
    "## Conclusion\n",
    "\n",
    "In this notebook, we have walked through the complete process of compiling TorchScript models with TRTorch and test the performance impact of the optimization.\n",
    "\n",
    "### What's next\n",
    "Now it's time to try TRTorch on your own model. Fill out issues at https://github.com/NVIDIA/TRTorch. Your involvement will help future development of TRTorch.\n"
   ]
  },
  {
   "cell_type": "code",
   "execution_count": null,
   "metadata": {},
   "outputs": [],
   "source": []
  }
 ],
 "metadata": {
  "kernelspec": {
   "display_name": "Python 3",
   "language": "python",
   "name": "python3"
  },
  "language_info": {
   "codemirror_mode": {
    "name": "ipython",
    "version": 3
   },
   "file_extension": ".py",
   "mimetype": "text/x-python",
   "name": "python",
   "nbconvert_exporter": "python",
   "pygments_lexer": "ipython3",
   "version": "3.6.9"
  }
 },
 "nbformat": 4,
 "nbformat_minor": 4
}
